{
 "cells": [
  {
   "cell_type": "code",
   "execution_count": 8,
   "id": "9cf6214a-f52b-4c75-a00e-3828a841a27a",
   "metadata": {},
   "outputs": [],
   "source": [
    "cl=\"sk-UprRGG0GqQS37uH47aA0E8366b2b4c9aBbFc9c293e72A882\"\n",
    "url = \"https://xqtd520qidong.com/v1/chat/completions\"\n",
    "import csv\n",
    "import requests\n",
    "import re\n",
    "from openai import OpenAI\n",
    "import httpx\n",
    "from sklearn.metrics import precision_score, recall_score, f1_score, accuracy_score\n",
    "\n",
    "headers = {\"Authorization\": cl,\"content-type\": \"application/json\"}\n",
    "\n",
    "def evaluate_classification_performance(label, prediction):\n",
    "    \n",
    "    precision = precision_score(label, prediction)\n",
    "    recall = recall_score(label, prediction)\n",
    "    f1 = f1_score(label, prediction)\n",
    "    accuracy = accuracy_score(label, prediction)\n",
    "    return precision, recall, f1, accuracy\n",
    "\n",
    "\n",
    "def extract(all):\n",
    "    i=0\n",
    "    GPTinferP=[]\n",
    "    for x in all:\n",
    "        outputs = re.findall(r'[**]*output[:]*[**]*\\s*(\\d)', x, re.IGNORECASE)\n",
    "        ls = [int(output) for output in outputs]\n",
    "        print(i,ls,len(ls))\n",
    "        GPTinferP+=ls\n",
    "        i+=1\n",
    "    print(len(GPTinferP))\n",
    "    return GPTinferP\n",
    "\n"
   ]
  },
  {
   "attachments": {},
   "cell_type": "markdown",
   "id": "be91aa09-b5ac-41ca-bf55-7b80321c7af4",
   "metadata": {},
   "source": [
    "# 1 Homographic Puns(语义双关语)\n"
   ]
  },
  {
   "cell_type": "code",
   "execution_count": 2,
   "id": "b0ddb964-842e-47b1-a98e-580d36683023",
   "metadata": {},
   "outputs": [
    {
     "name": "stdout",
     "output_type": "stream",
     "text": [
      "225\n"
     ]
    }
   ],
   "source": [
    "#load data\n",
    "import json\n",
    "with open('Homo.json', 'r') as file:\n",
    "    raw = json.load(file)\n",
    "print(len(raw))"
   ]
  },
  {
   "cell_type": "code",
   "execution_count": 3,
   "id": "0b4d7a9c-82ae-45ea-bd9a-3c2f35b4012f",
   "metadata": {},
   "outputs": [
    {
     "data": {
      "text/plain": [
       "\"1.They hid from the gunman in a sauna where they could sweat it out .\\n2.Wal - Mart isn ' t the only saving place !\\n3.Can honeybee abuse lead to a sting operation ?\\n4.A ditch digger was entrenched in his career .\\n5.She was only a Blacksmith ' s daughter , but she knew how to forge ahead .\\n6.86 of Borg : You will be assimilated . Would you believe , stood close to ?\\n7.Did you hear about the new pinata ? It ' s a huge hit .\\n8.A bank manager who was also a high jumper spent most of his time in the vault .\\n9.A discussion of digging a new mine shaft was too deep for him .\\n10.She was suspected of stealing a brooch but they couldn ' t pin it on her .\""
      ]
     },
     "execution_count": 3,
     "metadata": {},
     "output_type": "execute_result"
    }
   ],
   "source": [
    "raw[0]"
   ]
  },
  {
   "cell_type": "code",
   "execution_count": 12,
   "id": "9a1fd42a-0838-49c1-a3bc-b7c47b8e34bb",
   "metadata": {},
   "outputs": [],
   "source": [
    "#prompt\n",
    "prompt=\"\"\"\n",
    "I will provide a list of sentences, each separated by a newline ('\\\\n').\n",
    "Your task is to analyze each sentence to determine if it contains any pun.\n",
    "For each sentence, explain your reasoning and write 'output:1' if it contains a pun, else \n",
    "write 'output:0'  in the next line.Make sure your analysis is clear and concise. for example:\n",
    "INPUT:\n",
    "1.Broken pencils are pointless.\n",
    "2.He is very successful.\n",
    "3.I was a banker, but I lost interest.\n",
    "OUTPUT:\n",
    "1.Broken pencils are pointless.\n",
    "\"pointless\" here means both \"lacks a sharp point\" and \"something without purpose or use\"\n",
    "output:1\n",
    "2.He is very successful.\n",
    "no pun here\n",
    "output:0\n",
    "3.I was a banker, but I lost interest.\n",
    "\"interest\" here means both \"extra money\" and \"wanting to know or learn about something\"\n",
    "output:1\n",
    "\"\"\"\n",
    "all=[]"
   ]
  },
  {
   "cell_type": "code",
   "execution_count": 15,
   "id": "3f53a8de-253e-483d-bd2b-48e101381c30",
   "metadata": {},
   "outputs": [
    {
     "name": "stdout",
     "output_type": "stream",
     "text": [
      "0,1,2,3,4,5,6,7,8,9,10,11,12,13,14,15,16,17,18,19,20,21,22,23,24,25,26,27,28,29,30,31,32,33,34,35,36,37,38,39,40,41,42,43,44,45,46,47,48,49,50,51,52,53,54,55,56,57,58,59,60,61,62,63,64,65,66,67,68,69,70,71,72,73,74,75,76,77,78,79,80,81,82,83,84,85,86,87,88,89,90,91,92,93,94,95,96,97,98,99,100,101,102,103,104,105,106,107,108,109,110,111,112,113,114,115,116,117,118,119,120,121,122,123,124,125,126,127,128,129,130,131,132,133,134,135,136,137,138,139,140,141,142,143,144,145,146,147,148,149,150,151,152,153,154,155,156,157,158,159,160,161,162,163,164,165,166,167,168,169,170,171,172,173,174,175,176,177,178,179,180,181,182,183,184,185,186,187,188,189,190,191,192,193,194,195,196,197,198,199,200,201,202,203,204,205,206,207,208,209,210,211,212,213,214,215,216,217,218,219,220,221,222,223,224,"
     ]
    }
   ],
   "source": [
    "# ann=[]\n",
    "start=len(all)\n",
    "for p in raw[start:]:\n",
    "    data = { \"messages\": [{\"role\": \"user\",\"content\": prompt+p,}], \"model\": \"claude-3-opus-20240229\",}\n",
    "    dat = json.loads((requests.post(url, headers=headers, json=data)).text)\n",
    "    content =  dat[\"choices\"][0][\"message\"][\"content\"]\n",
    "    print(len(all),end=',')\n",
    "    all.append(content)"
   ]
  },
  {
   "cell_type": "code",
   "execution_count": 78,
   "id": "d3d64345-abf3-4fc8-936e-e480a80f0302",
   "metadata": {},
   "outputs": [],
   "source": [
    "import json\n",
    "j = 0\n",
    "data = { \"messages\": [{\"role\": \"user\",\"content\": prompt+raw[j],}], \"model\": \"claude-3-opus-20240229\",}\n",
    "dat = json.loads((requests.post(url, headers=headers, json=data)).text)\n",
    "content =  dat[\"choices\"][0][\"message\"][\"content\"]\n",
    "all[j]=content"
   ]
  },
  {
   "cell_type": "code",
   "execution_count": null,
   "id": "025dac25-e313-4e42-9cdf-6e386f04bc9f",
   "metadata": {},
   "outputs": [],
   "source": [
    "claudeHom=extract(all)"
   ]
  },
  {
   "cell_type": "code",
   "execution_count": 20,
   "id": "6330f414-2bf3-46fd-a1eb-76f4f7d61556",
   "metadata": {},
   "outputs": [],
   "source": [
    "# save\n",
    "import json\n",
    "with open(\"Hom/Claude(hom).json\", \"w\") as outfile:  \n",
    "    json.dump(claudeHom, outfile) "
   ]
  },
  {
   "cell_type": "markdown",
   "id": "3b11052b-efae-4d08-a5ab-ab5b95a6b149",
   "metadata": {},
   "source": [
    "# 2 Heterographic Puns(谐音双关语)"
   ]
  },
  {
   "cell_type": "code",
   "execution_count": 1,
   "id": "89542c9e-4fb1-4830-8402-9531a9793586",
   "metadata": {},
   "outputs": [
    {
     "name": "stdout",
     "output_type": "stream",
     "text": [
      "178\n"
     ]
    }
   ],
   "source": [
    "#load data\n",
    "import json\n",
    "with open('Hetero.json', 'r') as file:\n",
    "    raw = json.load(file)\n",
    "print(len(raw))"
   ]
  },
  {
   "cell_type": "code",
   "execution_count": 2,
   "id": "099587a8-aacd-4f05-9434-9512aa3df1bb",
   "metadata": {},
   "outputs": [],
   "source": [
    "#prompt\n",
    "prompt=\"\"\"\n",
    "I will provide a list of sentences, each separated by a newline ('\\\\n').\n",
    "Your task is to analyze each sentence to determine if it contains any Heterographic pun.\n",
    "For each sentence, explain your reasoning and write 'output:1' if it contains a Heterographic pun,\n",
    "else write 'output:0'  in the next line. Make sure your analysis is clear and concise. for example:\n",
    "INPUT:\n",
    "1.When the church bought gas for their annual barbecue, proceeds went from the sacred to the propane.\n",
    "2.He is very successful.\n",
    "3.I'm on a seafood diet. I see food, and I eat it\n",
    "OUTPUT:\n",
    "1.When the church bought gas for their annual barbecue, proceeds went from the sacred to the propane.\n",
    "The word \"propane\" is used in place of \"profane,\" \n",
    "output:1\n",
    "2.He is very successful.\n",
    "no pun here\n",
    "output:0\n",
    "3.I'm on a seafood diet. I see food, and I eat it\n",
    "\"Seafood\" and \"see food\" are homophones\n",
    "output:1\n",
    "\"\"\"\n",
    "all=[]"
   ]
  },
  {
   "cell_type": "code",
   "execution_count": null,
   "id": "0bc5a3dd-c6a2-4bec-9e68-bb63e67abb72",
   "metadata": {
    "scrolled": true
   },
   "outputs": [],
   "source": [
    "# ann=[]\n",
    "start=len(all)\n",
    "for p in raw[start:]:\n",
    "    data = { \"messages\": [{\"role\": \"user\",\"content\": prompt+p,}], \"model\": \"claude-3-opus-20240229\",}\n",
    "    dat = json.loads((requests.post(url, headers=headers, json=data)).text)\n",
    "    content =  dat[\"choices\"][0][\"message\"][\"content\"]\n",
    "    print(len(all),end=',')\n",
    "    all.append(content)"
   ]
  },
  {
   "cell_type": "code",
   "execution_count": null,
   "id": "c6f2e0f0-ca87-4357-a9f4-d9c05379210a",
   "metadata": {},
   "outputs": [],
   "source": [
    "# save\n",
    "cld=extract(all)"
   ]
  },
  {
   "cell_type": "code",
   "execution_count": null,
   "id": "71d454d7-258d-4961-8282-b697e58df5ce",
   "metadata": {},
   "outputs": [],
   "source": [
    "# save\n",
    "import json\n",
    "with open(\"Het/Claude-2.json\", \"w\") as outfile:  \n",
    "    json.dump(gpt, outfile) "
   ]
  },
  {
   "cell_type": "markdown",
   "id": "c69f2b57-0e5a-4339-81a4-c27bb580eb5f",
   "metadata": {},
   "source": [
    "# <font color='red'> Delete the following content </font>"
   ]
  },
  {
   "cell_type": "code",
   "execution_count": 109,
   "id": "840baee5-0e6d-4ea4-907b-f297c7eb8d81",
   "metadata": {},
   "outputs": [],
   "source": [
    "with open('Het/Gemini(het).json', 'r') as file:\n",
    "    gemhet = json.load(file)\n",
    "with open('Het/GPT3(het).json', 'r') as file:\n",
    "    gpt3het = json.load(file)\n",
    "with open('Het/GPT4(het)turbo.json', 'r') as file:\n",
    "    gpt4het = json.load(file)\n",
    "###################################################################\n",
    "with open('Hom/GPT3(hom).json', 'r') as file:\n",
    "    gpt3hom = json.load(file)\n",
    "with open('Hom/GPT4(hom).json', 'r') as file:\n",
    "    gpt4hom = json.load(file)\n",
    "with open('Hom/Gemini(hom).json', 'r') as file:\n",
    "    gemhom = json.load(file)"
   ]
  },
  {
   "cell_type": "code",
   "execution_count": 111,
   "id": "d93a59a4-9de8-4ecc-9979-e12c154271a0",
   "metadata": {},
   "outputs": [
    {
     "name": "stdout",
     "output_type": "stream",
     "text": [
      "Hererographic:\n",
      "GPT-3.5: (0.8597785977859779, 0.7332808811959087, 0.7915074309978769, 0.7241573033707865)\n",
      "Gemini : (0.9217462932454695, 0.8804091266719118, 0.9006036217303823, 0.8612359550561798)\n",
      "GPT-4  : (0.9775583482944344, 0.8568056648308419, 0.9132075471698112, 0.8837078651685393)\n",
      "---------------------------------------------------------------------------------------------------\n",
      "Homographic:\n",
      "GPT-3.5: (0.8418918918918918, 0.7753578095830741, 0.8072562358276645, 0.7355555555555555)\n",
      "Gemini : (0.9058963668850506, 0.9464841319228375, 0.9257455873402313, 0.8915555555555555)\n",
      "GPT-4  : (0.9405506883604505, 0.9352831362787803, 0.9379095163806553, 0.9115555555555556)\n"
     ]
    }
   ],
   "source": [
    "#load data\n",
    "import json\n",
    "with open('HomoLabel.json', 'r') as file:\n",
    "    hom = json.load(file)\n",
    "with open('HeteroLabel.json', 'r') as file:\n",
    "    het = json.load(file)\n",
    "# print(len(label))\n",
    "print(\"Hererographic:\")\n",
    "print(\"GPT-3.5:\",evaluate_classification_performance(het,gpt3het))\n",
    "print(\"Gemini :\",evaluate_classification_performance(het,gemhet))\n",
    "print(\"GPT-4  :\",evaluate_classification_performance(het,gpt4het))\n",
    "# print(evaluate_classification_performance(het,gpt42))\n",
    "# print(evaluate_classification_performance(gpt41,gpt42))\n",
    "print('-'*99)\n",
    "print(\"Homographic:\")\n",
    "print(\"GPT-3.5:\",evaluate_classification_performance(hom,gpt3hom))\n",
    "print(\"Gemini :\",evaluate_classification_performance(hom,gemhom))\n",
    "print(\"GPT-4  :\",evaluate_classification_performance(hom,gpt4hom))"
   ]
  },
  {
   "attachments": {
    "01602b1d-e29d-4e92-a727-03b37dacf0c4.jpg": {
     "image/jpeg": "[encoded data removed]"
    }
   },
   "cell_type": "markdown",
   "id": "687c0c0e-5254-425e-97ca-260dc423ca17",
   "metadata": {},
   "source": [
    "![1714031920750.jpg](attachment:01602b1d-e29d-4e92-a727-03b37dacf0c4.jpg)"
   ]
  },
  {
   "cell_type": "code",
   "execution_count": 22,
   "id": "123a81b6-7d8f-4b4c-9a41-6ce125f18382",
   "metadata": {},
   "outputs": [
    {
     "name": "stdout",
     "output_type": "stream",
     "text": [
      " Here are the WordNet 3.1 sense keys for the pun word \"interest\" in the sentence \"I was a banker, but I lost interest.\":\n",
      "\n",
      "1. interest%1:09:00:: (a sense of concern with and curiosity about someone or something)\n",
      "2. interest%1:21:00:: (a fixed charge for borrowing money; usually a percentage of the amount borrowed)\n",
      "\n",
      "In this pun, the word \"interest\" is used in two different senses:\n",
      "\n",
      "1. The first sense refers to the banker's enthusiasm or engagement in their job.\n",
      "2. The second sense refers to the financial concept of interest, which is a core aspect of a banker's profession.\n",
      "\n",
      "The humor in the pun arises from the intentional ambiguity created by using a single word with multiple relevant meanings.\n"
     ]
    }
   ],
   "source": [
    "import json\n",
    "str=\"\"\"\n",
    "print out the following sentence's WordNet 3.1 sense keys for the pun word:\n",
    "I was a banker, but I lost interest.\n",
    "\"\"\"\n",
    "data = {\"messages\": [{\"role\": \"user\",\"content\": str,}], \"model\": \"claude-3-opus-20240229\",}\n",
    "dat = json.loads((requests.post(url, headers=headers, json=data)).text)\n",
    "content =  dat[\"choices\"][0][\"message\"][\"content\"]\n",
    "print(content)"
   ]
  },
  {
   "cell_type": "code",
   "execution_count": null,
   "id": "c6dd87ad-9704-49e3-bcba-ba31993e7753",
   "metadata": {},
   "outputs": [],
   "source": []
  }
 ],
 "metadata": {
  "kernelspec": {
   "display_name": "Python 3 (ipykernel)",
   "language": "python",
   "name": "python3"
  },
  "language_info": {
   "codemirror_mode": {
    "name": "ipython",
    "version": 3
   },
   "file_extension": ".py",
   "mimetype": "text/x-python",
   "name": "python",
   "nbconvert_exporter": "python",
   "pygments_lexer": "ipython3",
   "version": "3.12.1"
  }
 },
 "nbformat": 4,
 "nbformat_minor": 5
}
