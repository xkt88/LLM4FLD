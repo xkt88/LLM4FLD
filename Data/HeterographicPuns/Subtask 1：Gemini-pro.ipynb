{
  "cells": [
    {
      "cell_type": "markdown",
      "metadata": {
        "id": "Tce3stUlHN0L"
      },
      "source": [
        "##### Copyright 2023 Google LLC."
      ]
    },
    {
      "cell_type": "code",
      "execution_count": null,
      "metadata": {
        "id": "tuOe1ymfHZPu"
      },
      "outputs": [],
      "source": [
        "#@title Licensed under the Apache License, Version 2.0 (the \"License\");\n",
        "# you may not use this file except in compliance with the License.\n",
        "# You may obtain a copy of the License at\n",
        "#\n",
        "# https://www.apache.org/licenses/LICENSE-2.0\n",
        "#\n",
        "# Unless required by applicable law or agreed to in writing, software\n",
        "# distributed under the License is distributed on an \"AS IS\" BASIS,\n",
        "# WITHOUT WARRANTIES OR CONDITIONS OF ANY KIND, either express or implied.\n",
        "# See the License for the specific language governing permissions and\n",
        "# limitations under the License."
      ]
    },
    {
      "cell_type": "markdown",
      "metadata": {
        "id": "yeadDkMiISin"
      },
      "source": [
        "# Gemini API: Quickstart with Python"
      ]
    },
    {
      "cell_type": "markdown",
      "metadata": {
        "id": "lEXQ3OwKIa-O"
      },
      "source": [
        "<table class=\"tfo-notebook-buttons\" align=\"left\">\n",
        "  <td>\n",
        "    <a target=\"_blank\" href=\"https://ai.google.dev/tutorials/python_quickstart\"><img src=\"https://ai.google.dev/static/site-assets/images/docs/notebook-site-button.png\" height=\"32\" width=\"32\" />View on Google AI</a>\n",
        "  </td>\n",
        "  <td>\n",
        "    <a target=\"_blank\" href=\"https://colab.research.google.com/github/google/generative-ai-docs/blob/main/site/en/tutorials/python_quickstart.ipynb\"><img src=\"https://www.tensorflow.org/images/colab_logo_32px.png\" />Run in Google Colab</a>\n",
        "  </td>\n",
        "  <td>\n",
        "    <a target=\"_blank\" href=\"https://github.com/google/generative-ai-docs/blob/main/site/en/tutorials/python_quickstart.ipynb\"><img src=\"https://www.tensorflow.org/images/GitHub-Mark-32px.png\" />View source on GitHub</a>\n",
        "  </td>\n",
        "</table>"
      ]
    },
    {
      "cell_type": "markdown",
      "metadata": {
        "id": "uOxMUKTxR-_j"
      },
      "source": [
        "This quickstart demonstrates how to use the Python SDK for the Gemini API, which gives you access to Google's Gemini large language models. In this quickstart, you will learn how to:\n",
        "\n",
        "1. Set up your development environment and API access to use Gemini.\n",
        "2. Generate text responses from text inputs.\n",
        "3. Generate text responses from multimodal inputs (text and images).\n",
        "4. Use Gemini for multi-turn conversations (chat).\n",
        "5. Use embeddings for large language models."
      ]
    },
    {
      "cell_type": "markdown",
      "metadata": {
        "id": "H9__zr1nSBpE"
      },
      "source": [
        "## Prerequisites\n",
        "\n",
        "You can run this quickstart in [Google Colab](https://colab.research.google.com/github/google/generative-ai-docs/blob/main/site/en/tutorials/python_quickstart.ipynb), which runs this notebook directly in the browser and does not require additional environment configuration.\n",
        "\n",
        "Alternatively, to complete this quickstart locally, ensure that your development environment meets the following requirements:\n",
        "\n",
        "-  Python 3.9+\n",
        "-  An installation of `jupyter` to run the notebook.\n"
      ]
    },
    {
      "cell_type": "markdown",
      "metadata": {
        "id": "FFPBKLapSCkM"
      },
      "source": [
        "## Setup\n"
      ]
    },
    {
      "cell_type": "markdown",
      "metadata": {
        "id": "wFNV1e3ASJha"
      },
      "source": [
        "### Install the Python SDK\n",
        "\n",
        "The Python SDK for the Gemini API, is contained in the [`google-generativeai`](https://pypi.org/project/google-generativeai/) package. Install the dependency using pip:\n"
      ]
    },
    {
      "cell_type": "code",
      "execution_count": null,
      "metadata": {
        "id": "9OEoeosRTv-5",
        "colab": {
          "base_uri": "https://localhost:8080/"
        },
        "outputId": "07af07b5-88eb-46bf-8716-9a8a9608a789"
      },
      "outputs": [
        {
          "output_type": "stream",
          "name": "stdout",
          "text": [
            "\u001b[?25l     \u001b[90m━━━━━━━━━━━━━━━━━━━━━━━━━━━━━━━━━━━━━━━━\u001b[0m \u001b[32m0.0/146.8 kB\u001b[0m \u001b[31m?\u001b[0m eta \u001b[36m-:--:--\u001b[0m\r\u001b[2K     \u001b[91m━━━━━━━━━━━━━━━━━━━━━━━━━━━━━━━━━━━━━━━\u001b[0m\u001b[90m╺\u001b[0m \u001b[32m143.4/146.8 kB\u001b[0m \u001b[31m4.1 MB/s\u001b[0m eta \u001b[36m0:00:01\u001b[0m\r\u001b[2K     \u001b[90m━━━━━━━━━━━━━━━━━━━━━━━━━━━━━━━━━━━━━━━━\u001b[0m \u001b[32m146.8/146.8 kB\u001b[0m \u001b[31m3.0 MB/s\u001b[0m eta \u001b[36m0:00:00\u001b[0m\n",
            "\u001b[?25h\u001b[?25l     \u001b[90m━━━━━━━━━━━━━━━━━━━━━━━━━━━━━━━━━━━━━━━━\u001b[0m \u001b[32m0.0/664.5 kB\u001b[0m \u001b[31m?\u001b[0m eta \u001b[36m-:--:--\u001b[0m\r\u001b[2K     \u001b[91m━━━━━━━━━━━━━━━━━━━━━━━━━━━━━━\u001b[0m\u001b[91m╸\u001b[0m\u001b[90m━━━━━━━━━\u001b[0m \u001b[32m512.0/664.5 kB\u001b[0m \u001b[31m16.4 MB/s\u001b[0m eta \u001b[36m0:00:01\u001b[0m\r\u001b[2K     \u001b[90m━━━━━━━━━━━━━━━━━━━━━━━━━━━━━━━━━━━━━━━━\u001b[0m \u001b[32m664.5/664.5 kB\u001b[0m \u001b[31m11.0 MB/s\u001b[0m eta \u001b[36m0:00:00\u001b[0m\n",
            "\u001b[?25h"
          ]
        }
      ],
      "source": [
        "!pip install -q -U google-generativeai"
      ]
    },
    {
      "cell_type": "markdown",
      "metadata": {
        "id": "KCFF5VSTbcAR"
      },
      "source": [
        "### Import packages"
      ]
    },
    {
      "cell_type": "markdown",
      "metadata": {
        "id": "vRC2HngneEeQ"
      },
      "source": [
        "Import the necessary packages."
      ]
    },
    {
      "cell_type": "code",
      "execution_count": null,
      "metadata": {
        "id": "TS9l5igubpHO"
      },
      "outputs": [],
      "source": [
        "import pathlib\n",
        "import textwrap\n",
        "import pyperclip\n",
        "\n",
        "import google.generativeai as genai\n",
        "\n",
        "from IPython.display import display\n",
        "from IPython.display import Markdown\n",
        "\n",
        "\n",
        "def to_markdown(text):\n",
        "  text = text.replace('•', '  *')\n",
        "  return Markdown(textwrap.indent(text, '> ', predicate=lambda _: True))"
      ]
    },
    {
      "cell_type": "code",
      "execution_count": null,
      "metadata": {
        "id": "d10c38a5c91f"
      },
      "outputs": [],
      "source": [
        "# Used to securely store your API key\n",
        "from google.colab import userdata"
      ]
    },
    {
      "cell_type": "markdown",
      "metadata": {
        "id": "gHYFrFPjSGNq"
      },
      "source": [
        "### Setup your API key\n",
        "\n",
        "Before you can use the Gemini API, you must first obtain an API key. If you don't already have one, create a key with one click in Google AI Studio.\n",
        "\n",
        "<a class=\"button button-primary\" href=\"https://makersuite.google.com/app/apikey\" target=\"_blank\" rel=\"noopener noreferrer\">Get an API key</a>\n"
      ]
    },
    {
      "cell_type": "markdown",
      "metadata": {
        "id": "tHhsUxDTdw0W"
      },
      "source": [
        "In Colab, add the key to the secrets manager under the \"🔑\" in the left panel. Give it the name `GOOGLE_API_KEY`."
      ]
    },
    {
      "cell_type": "markdown",
      "metadata": {
        "id": "VmSlTHXxb5pV"
      },
      "source": [
        "Once you have the API key, pass it to the SDK. You can do this in two ways:\n",
        "\n",
        "* Put the key in the `GOOGLE_API_KEY` environment variable (the SDK will automatically pick it up from there).\n",
        "* Pass the key to `genai.configure(api_key=...)`\n"
      ]
    },
    {
      "cell_type": "code",
      "execution_count": null,
      "metadata": {
        "id": "ab9ASynfcIZn"
      },
      "outputs": [],
      "source": [
        "# Or use `os.getenv('GOOGLE_API_KEY')` to fetch an environment variable.\n",
        "GOOGLE_API_KEY=userdata.get('GOOGLE_API_KEY')\n",
        "\n",
        "genai.configure(api_key=GOOGLE_API_KEY)"
      ]
    },
    {
      "cell_type": "markdown",
      "metadata": {
        "id": "8ssbTMNVSMd-"
      },
      "source": [
        "## List models\n",
        "\n",
        "Now you're ready to call the Gemini API. Use `list_models` to see the available Gemini models:\n",
        "\n",
        "* `gemini-pro`: optimized for text-only prompts.\n",
        "* `gemini-pro-vision`: optimized for text-and-images prompts."
      ]
    },
    {
      "cell_type": "code",
      "execution_count": null,
      "metadata": {
        "colab": {
          "base_uri": "https://localhost:8080/",
          "height": 138
        },
        "id": "QvvWFy08e5c5",
        "outputId": "6649bb31-7771-4ad0-d1a6-c08c42f3a985"
      },
      "outputs": [
        {
          "output_type": "stream",
          "name": "stdout",
          "text": [
            "models/gemini-1.0-pro\n",
            "models/gemini-1.0-pro-001\n",
            "models/gemini-1.0-pro-latest\n",
            "models/gemini-1.0-pro-vision-latest\n",
            "models/gemini-1.5-pro-latest\n",
            "models/gemini-pro\n",
            "models/gemini-pro-vision\n"
          ]
        }
      ],
      "source": [
        "for m in genai.list_models():\n",
        "  if 'generateContent' in m.supported_generation_methods:\n",
        "    print(m.name)"
      ]
    },
    {
      "cell_type": "code",
      "source": [],
      "metadata": {
        "id": "iWR78d7fIgHL"
      },
      "execution_count": null,
      "outputs": []
    },
    {
      "cell_type": "code",
      "source": [
        "model = genai.GenerativeModel('gemini-1.5-pro-latest')"
      ],
      "metadata": {
        "id": "Wic0YJEc7Unl"
      },
      "execution_count": null,
      "outputs": []
    },
    {
      "cell_type": "code",
      "execution_count": null,
      "metadata": {
        "id": "IwJPkTlGAraL"
      },
      "outputs": [],
      "source": [
        "# all = []\n",
        "prompt=\"\"\"\n",
        "I will provide a list of sentences, each separated by a newline ('\\\\n').\n",
        "Your task is to analyze each sentence to determine if it contains any pun.\n",
        "For each sentence, explain your reasoning and write 'output:1' if it contains a pun, else\n",
        "write 'output:0'  in the next line.Make sure your analysis is clear and concise. for example:\n",
        "INPUT:\n",
        "1.Broken pencils are pointless.\n",
        "2.He is very successful.\n",
        "3.I was a banker, but I lost interest.\n",
        "OUTPUT:\n",
        "1.Broken pencils are pointless.\n",
        "\"pointless\" here means both \"lacks a sharp point\" and \"something without purpose or use\"\n",
        "output:1\n",
        "2.He is very successful.\n",
        "no pun here\n",
        "output:0\n",
        "3.I was a banker, but I lost interest.\n",
        "\"interest\" here means both \"extra money\" and \"wanting to know or learn about something\"\n",
        "output:1\n",
        "\n",
        "INPUT:\n",
        "\"\"\"\n",
        "all=[]"
      ]
    },
    {
      "cell_type": "code",
      "execution_count": null,
      "metadata": {
        "colab": {
          "base_uri": "https://localhost:8080/"
        },
        "id": "lJQavN6LBGS9",
        "outputId": "8f555a15-b744-4edd-91e6-d4b62db8b86d"
      },
      "outputs": [
        {
          "output_type": "stream",
          "name": "stdout",
          "text": [
            "225\n"
          ]
        }
      ],
      "source": [
        "import json\n",
        "with open('Homo.json', 'r') as file:\n",
        "    raw = json.load(file)\n",
        "print(len(raw))\n",
        "# print(raw[0])"
      ]
    },
    {
      "cell_type": "code",
      "execution_count": null,
      "metadata": {
        "colab": {
          "base_uri": "https://localhost:8080/",
          "height": 34
        },
        "id": "cu6eoApdBW6O",
        "outputId": "515b9e6f-8f58-4505-f339-d05e9b24ebfb"
      },
      "outputs": [
        {
          "output_type": "stream",
          "name": "stdout",
          "text": [
            "219 220 221 222 223 224 225 "
          ]
        }
      ],
      "source": [
        "s=len(all)\n",
        "for x in raw[s:]:\n",
        "  response = model.generate_content(prompt+x)\n",
        "  content = response.text\n",
        "  all.append(content)\n",
        "  print(len(all),end=' ')"
      ]
    },
    {
      "cell_type": "code",
      "source": [
        "j=195\n",
        "response = model.generate_content(prompt+raw[j])\n",
        "content = response.text\n",
        "all[j]=(content)\n",
        "print(content)"
      ],
      "metadata": {
        "colab": {
          "base_uri": "https://localhost:8080/",
          "height": 575
        },
        "id": "BkW3NyjFbYBR",
        "outputId": "7b67fc08-36f5-4c09-b655-58ffac5d56cf"
      },
      "execution_count": null,
      "outputs": [
        {
          "output_type": "stream",
          "name": "stdout",
          "text": [
            "1.The duke and the count had a fight . The duke was down for the count .\n",
            "\"Down for the count\" literally means the duke was knocked down and the count was counting to ten, but it also means the duke was defeated. \n",
            "output:1 \n",
            "2.I thought about studying astronomy for university but I knew I would just be taking up space .\n",
            "\"Taking up space\" literally means physically occupying space, but also means not contributing meaningfully.\n",
            "output:1\n",
            "3.He sold candy and chocolate . A lot of girls were sweet on him .\n",
            "\"Sweet on him\" literally means they liked sweets he sold but it also means they were romantically interested in him.\n",
            "output:1 \n",
            "4.I went to an invisible fairground but didn ' t think it was very good . I just couldn ' t see the attraction .\n",
            "\"Couldn't see the attraction\" literally means the person could not see the rides/attractions at the fairground, but it also means they did not understand what was appealing about it.\n",
            "output:1\n",
            "5.One of the joys of being a lightweight is that commuting by wind is a breeze !\n",
            "\"Breeze\" literally means wind but also means something that is easy.\n",
            "output:1\n",
            "6.My buddy asked me to look after his pet goose while he was away . I told him I wasn ' t down with that .\n",
            "\"Down with that\" is slang and means the person did not agree to the idea.\n",
            "output:0\n",
            "7.OLD PROGRAMMERS never die , they just move to new addresses .\n",
            "\"Move to new addresses\" literally means changing houses but in programming, it also means changing the memory location.\n",
            "output:1\n",
            "8.A speaker at the firearms convention had to rifle through his notes .\n",
            "\"Rifle through\" literally means to search through something quickly but a rifle is also a type of firearm.\n",
            "output:1 \n",
            "9.Good clothes open all doors .\n",
            "This is a metaphorical statement meaning good clothes create good impressions and lead to opportunities.\n",
            "output:0\n",
            "10.Watson and Crick did the twist all night .\n",
            "\"Twist\" refers to a dance but it also refers to the helical structure of DNA that Watson and Crick discovered.\n",
            "output:1 \n",
            "\n"
          ]
        }
      ]
    },
    {
      "cell_type": "code",
      "execution_count": null,
      "metadata": {
        "colab": {
          "base_uri": "https://localhost:8080/"
        },
        "id": "Zzp1zH3cJKth",
        "outputId": "c2564f45-3862-463d-b8af-3c60e9c95b35"
      },
      "outputs": [
        {
          "output_type": "stream",
          "name": "stdout",
          "text": [
            "0 [1, 1, 1, 1, 1, 0, 1, 1, 1, 1] | 10\n",
            "1 [1, 0, 0, 1, 1, 1, 0, 1, 1, 1] | 20\n",
            "2 [1, 1, 1, 1, 1, 1, 1, 1, 1, 1] | 30\n",
            "3 [1, 0, 0, 1, 0, 0, 0, 1, 1, 0] | 40\n",
            "4 [1, 0, 1, 1, 1, 1, 1, 1, 0, 1] | 50\n",
            "5 [1, 1, 1, 0, 1, 1, 0, 1, 0, 1] | 60\n",
            "6 [1, 1, 1, 0, 0, 0, 1, 0, 1, 1] | 70\n",
            "7 [1, 1, 1, 1, 1, 1, 1, 1, 0, 1] | 80\n",
            "8 [1, 0, 1, 0, 1, 1, 1, 1, 0, 1] | 90\n",
            "9 [1, 1, 1, 0, 1, 1, 0, 1, 1, 1] | 100\n",
            "10 [0, 0, 1, 1, 1, 1, 1, 1, 1, 1] | 110\n",
            "11 [0, 1, 1, 0, 1, 1, 1, 1, 1, 1] | 120\n",
            "12 [0, 0, 0, 1, 1, 0, 1, 1, 0, 1] | 130\n",
            "13 [1, 0, 1, 0, 1, 1, 1, 1, 1, 1] | 140\n",
            "14 [1, 1, 0, 1, 1, 0, 1, 1, 1, 1] | 150\n",
            "15 [1, 1, 0, 1, 0, 1, 1, 0, 1, 1] | 160\n",
            "16 [1, 1, 1, 1, 1, 0, 1, 0, 1, 1] | 170\n",
            "17 [0, 1, 1, 1, 1, 0, 1, 1, 1, 0] | 180\n",
            "18 [1, 0, 1, 0, 1, 1, 0, 1, 1, 0] | 190\n",
            "19 [1, 0, 1, 0, 1, 1, 1, 0, 0, 0] | 200\n",
            "20 [1, 1, 1, 1, 0, 1, 1, 1, 1, 0] | 210\n",
            "21 [0, 0, 0, 1, 0, 0, 1, 1, 1, 1] | 220\n",
            "22 [1, 1, 1, 1, 1, 1, 1, 1, 1, 0] | 230\n",
            "23 [1, 1, 1, 1, 1, 1, 1, 1, 1, 1] | 240\n",
            "24 [1, 0, 1, 1, 1, 1, 1, 0, 0, 1] | 250\n",
            "25 [1, 0, 1, 1, 1, 1, 0, 1, 1, 1] | 260\n",
            "26 [1, 1, 0, 0, 1, 1, 1, 1, 1, 1] | 270\n",
            "27 [1, 1, 1, 1, 1, 1, 1, 1, 1, 1] | 280\n",
            "28 [1, 1, 1, 1, 0, 1, 1, 1, 1, 0] | 290\n",
            "29 [0, 1, 1, 1, 0, 1, 1, 1, 0, 1] | 300\n",
            "30 [1, 1, 1, 1, 1, 1, 1, 1, 0, 1] | 310\n",
            "31 [0, 0, 1, 0, 1, 1, 1, 0, 1, 1] | 320\n",
            "32 [0, 1, 1, 1, 1, 0, 1, 1, 0, 1] | 330\n",
            "33 [0, 1, 1, 1, 0, 0, 1, 0, 1, 0] | 340\n",
            "34 [1, 1, 0, 1, 1, 1, 0, 1, 1, 1] | 350\n",
            "35 [1, 0, 1, 1, 1, 1, 1, 1, 0, 1] | 360\n",
            "36 [1, 1, 1, 1, 1, 1, 1, 1, 1, 1] | 370\n",
            "37 [1, 0, 1, 1, 1, 0, 0, 1, 1, 1] | 380\n",
            "38 [1, 1, 1, 0, 0, 1, 1, 1, 1, 1] | 390\n",
            "39 [1, 1, 1, 1, 0, 1, 1, 0, 1, 1] | 400\n",
            "40 [1, 1, 1, 1, 1, 1, 0, 1, 0, 0] | 410\n",
            "41 [1, 1, 0, 1, 1, 1, 1, 1, 0, 1] | 420\n",
            "42 [1, 1, 1, 1, 1, 1, 0, 1, 1, 1] | 430\n",
            "43 [1, 1, 1, 1, 0, 0, 1, 1, 0, 1] | 440\n",
            "44 [1, 1, 1, 1, 0, 1, 1, 0, 1, 0] | 450\n",
            "45 [1, 1, 0, 1, 0, 1, 1, 1, 0, 1] | 460\n",
            "46 [0, 1, 1, 1, 0, 0, 1, 1, 1, 1] | 470\n",
            "47 [0, 0, 1, 0, 0, 0, 0, 1, 1, 0] | 480\n",
            "48 [1, 1, 1, 1, 1, 1, 1, 1, 0, 1] | 490\n",
            "49 [1, 0, 1, 0, 1, 1, 1, 1, 0, 1] | 500\n",
            "50 [0, 1, 1, 1, 1, 1, 0, 0, 0, 0] | 510\n",
            "51 [1, 1, 1, 1, 0, 1, 0, 1, 1, 1] | 520\n",
            "52 [1, 1, 0, 1, 1, 1, 1, 0, 1, 0] | 530\n",
            "53 [1, 0, 0, 1, 1, 0, 0, 1, 1, 1] | 540\n",
            "54 [0, 1, 1, 1, 1, 1, 1, 1, 1, 1] | 550\n",
            "55 [0, 1, 1, 1, 1, 1, 1, 1, 1, 1] | 560\n",
            "56 [1, 0, 1, 0, 1, 1, 0, 1, 1, 1] | 570\n",
            "57 [1, 1, 1, 1, 1, 1, 0, 1, 1, 1] | 580\n",
            "58 [1, 1, 0, 1, 0, 1, 1, 1, 0, 1] | 590\n",
            "59 [1, 0, 1, 1, 1, 1, 1, 1, 1, 1] | 600\n",
            "60 [1, 1, 0, 1, 0, 0, 0, 1, 1, 0] | 610\n",
            "61 [1, 1, 0, 1, 1, 0, 1, 0, 1, 1] | 620\n",
            "62 [1, 1, 0, 1, 1, 0, 1, 1, 1, 1] | 630\n",
            "63 [1, 1, 1, 0, 1, 1, 1, 1, 1, 1] | 640\n",
            "64 [0, 1, 1, 1, 0, 1, 0, 1, 1, 1] | 650\n",
            "65 [0, 0, 0, 1, 0, 1, 1, 1, 1, 1] | 660\n",
            "66 [1, 1, 1, 1, 0, 1, 1, 1, 1, 1] | 670\n",
            "67 [1, 1, 1, 1, 1, 1, 1, 1, 1, 1] | 680\n",
            "68 [1, 1, 0, 1, 0, 1, 1, 1, 1, 1] | 690\n",
            "69 [1, 1, 1, 1, 1, 0, 1, 1, 1, 1] | 700\n",
            "70 [1, 0, 0, 0, 1, 0, 1, 1, 0, 1] | 710\n",
            "71 [1, 1, 1, 1, 1, 1, 1, 1, 0, 0] | 720\n",
            "72 [0, 1, 1, 0, 0, 1, 1, 1, 1, 0] | 730\n",
            "73 [1, 1, 0, 0, 1, 1, 1, 1, 0, 1] | 740\n",
            "74 [1, 1, 1, 1, 1, 1, 1, 1, 1, 1] | 750\n",
            "75 [1, 0, 1, 0, 0, 1, 0, 1, 1, 0] | 760\n",
            "76 [1, 1, 1, 1, 1, 1, 1, 1, 1, 1] | 770\n",
            "77 [1, 1, 1, 1, 1, 0, 1, 1, 1, 1] | 780\n",
            "78 [1, 1, 1, 0, 1, 0, 1, 1, 1, 1] | 790\n",
            "79 [1, 1, 1, 1, 0, 1, 1, 0, 1, 1] | 800\n",
            "80 [0, 1, 0, 1, 1, 1, 1, 1, 0, 1] | 810\n",
            "81 [1, 1, 0, 1, 1, 0, 1, 0, 1, 1] | 820\n",
            "82 [1, 0, 0, 0, 1, 0, 0, 1, 1, 0] | 830\n",
            "83 [0, 1, 1, 1, 1, 1, 0, 1, 0, 1] | 840\n",
            "84 [1, 0, 1, 0, 1, 0, 1, 1, 0, 0] | 850\n",
            "85 [1, 1, 1, 1, 1, 1, 1, 1, 0, 1] | 860\n",
            "86 [1, 1, 1, 1, 1, 1, 1, 1, 0, 1] | 870\n",
            "87 [1, 0, 1, 0, 0, 1, 1, 1, 0, 0] | 880\n",
            "88 [1, 1, 0, 1, 1, 1, 0, 1, 1, 0] | 890\n",
            "89 [1, 0, 0, 1, 1, 0, 1, 0, 0, 1] | 900\n",
            "90 [1, 0, 1, 0, 0, 1, 1, 1, 1, 1] | 910\n",
            "91 [1, 1, 1, 1, 1, 1, 1, 1, 0, 1] | 920\n",
            "92 [0, 1, 1, 1, 1, 1, 0, 1, 1, 1] | 930\n",
            "93 [1, 1, 1, 1, 0, 0, 1, 1, 1, 1] | 940\n",
            "94 [1, 1, 1, 0, 1, 1, 0, 0, 1, 0] | 950\n",
            "95 [1, 1, 0, 1, 1, 1, 1, 1, 1, 1] | 960\n",
            "96 [0, 1, 0, 1, 0, 1, 0, 0, 1, 1] | 970\n",
            "97 [1, 1, 1, 1, 0, 1, 1, 0, 1, 0] | 980\n",
            "98 [1, 0, 1, 1, 1, 0, 1, 1, 1, 1] | 990\n",
            "99 [1, 1, 1, 1, 1, 1, 0, 1, 1, 0] | 1000\n",
            "100 [1, 1, 0, 1, 0, 1, 1, 1, 1, 1] | 1010\n",
            "101 [1, 1, 1, 1, 1, 1, 1, 1, 1, 1] | 1020\n",
            "102 [1, 1, 1, 1, 1, 1, 1, 1, 0, 1] | 1030\n",
            "103 [1, 1, 1, 1, 1, 1, 1, 1, 1, 1] | 1040\n",
            "104 [0, 1, 1, 1, 1, 1, 1, 1, 1, 1] | 1050\n",
            "105 [1, 1, 1, 1, 1, 1, 1, 1, 0, 1] | 1060\n",
            "106 [1, 1, 1, 0, 1, 1, 1, 1, 1, 0] | 1070\n",
            "107 [1, 1, 1, 1, 0, 0, 1, 1, 1, 0] | 1080\n",
            "108 [1, 1, 1, 1, 1, 1, 0, 0, 0, 1] | 1090\n",
            "109 [1, 1, 1, 0, 1, 0, 0, 0, 0, 1] | 1100\n",
            "110 [1, 1, 1, 1, 1, 1, 1, 0, 1, 1] | 1110\n",
            "111 [1, 1, 1, 1, 0, 1, 1, 1, 1, 1] | 1120\n",
            "112 [1, 1, 1, 1, 0, 1, 1, 1, 0, 1] | 1130\n",
            "113 [1, 1, 1, 0, 1, 1, 0, 0, 1, 1] | 1140\n",
            "114 [1, 0, 1, 1, 0, 1, 1, 1, 0, 1] | 1150\n",
            "115 [1, 1, 1, 1, 1, 1, 0, 1, 0, 1] | 1160\n",
            "116 [1, 1, 1, 1, 1, 1, 0, 1, 0, 1] | 1170\n",
            "117 [1, 0, 1, 1, 1, 0, 1, 1, 1, 0] | 1180\n",
            "118 [1, 1, 1, 1, 1, 1, 0, 0, 1, 1] | 1190\n",
            "119 [1, 0, 0, 1, 1, 1, 1, 1, 0, 1] | 1200\n",
            "120 [1, 0, 1, 0, 1, 1, 0, 1, 1, 0] | 1210\n",
            "121 [1, 1, 1, 1, 1, 0, 1, 0, 1, 1] | 1220\n",
            "122 [1, 1, 0, 1, 1, 0, 1, 0, 1, 1] | 1230\n",
            "123 [1, 1, 0, 1, 0, 1, 1, 1, 1, 0] | 1240\n",
            "124 [1, 0, 1, 1, 1, 1, 1, 1, 1, 0] | 1250\n",
            "125 [1, 0, 1, 1, 0, 0, 1, 0, 1, 1] | 1260\n",
            "126 [1, 1, 1, 1, 1, 0, 1, 1, 1, 1] | 1270\n",
            "127 [1, 0, 0, 1, 1, 0, 1, 1, 1, 0] | 1280\n",
            "128 [1, 1, 1, 1, 0, 1, 1, 0, 0, 1] | 1290\n",
            "129 [1, 1, 0, 1, 1, 1, 0, 1, 0, 1] | 1300\n",
            "130 [1, 1, 0, 1, 1, 0, 0, 1, 1, 1] | 1310\n",
            "131 [1, 1, 0, 1, 1, 0, 1, 0, 0, 0] | 1320\n",
            "132 [1, 0, 1, 1, 1, 1, 1, 1, 0, 0] | 1330\n",
            "133 [1, 1, 1, 1, 0, 1, 0, 1, 1, 1] | 1340\n",
            "134 [1, 1, 1, 1, 1, 1, 0, 0, 1, 1] | 1350\n",
            "135 [1, 1, 0, 1, 1, 1, 1, 1, 1, 1] | 1360\n",
            "136 [0, 0, 1, 1, 1, 1, 1, 1, 1, 1] | 1370\n",
            "137 [1, 1, 1, 1, 1, 0, 1, 1, 0, 1] | 1380\n",
            "138 [1, 1, 1, 1, 1, 0, 1, 0, 1, 0] | 1390\n",
            "139 [1, 1, 1, 1, 1, 1, 1, 0, 0, 1] | 1400\n",
            "140 [1, 0, 1, 1, 0, 1, 0, 1, 0, 1] | 1410\n",
            "141 [0, 1, 0, 1, 0, 1, 1, 1, 1, 0] | 1420\n",
            "142 [1, 0, 0, 1, 1, 1, 1, 1, 1, 0] | 1430\n",
            "143 [1, 1, 1, 0, 1, 1, 0, 1, 1, 1] | 1440\n",
            "144 [1, 1, 1, 1, 0, 0, 1, 0, 1, 1] | 1450\n",
            "145 [1, 1, 1, 0, 0, 1, 0, 1, 0, 1] | 1460\n",
            "146 [1, 1, 1, 0, 1, 1, 0, 0, 1, 1] | 1470\n",
            "147 [1, 1, 1, 0, 0, 1, 1, 1, 1, 0] | 1480\n",
            "148 [1, 0, 1, 0, 1, 1, 0, 1, 0, 0] | 1490\n",
            "149 [1, 1, 0, 0, 1, 1, 1, 0, 1, 0] | 1500\n",
            "150 [1, 1, 1, 1, 1, 1, 1, 1, 1, 1] | 1510\n",
            "151 [1, 1, 1, 1, 1, 1, 1, 1, 1, 1] | 1520\n",
            "152 [1, 0, 0, 1, 0, 1, 1, 0, 1, 1] | 1530\n",
            "153 [1, 1, 0, 1, 1, 0, 1, 1, 1, 1] | 1540\n",
            "154 [1, 1, 1, 1, 1, 1, 1, 1, 1, 1] | 1550\n",
            "155 [1, 0, 1, 1, 1, 1, 0, 1, 1, 1] | 1560\n",
            "156 [1, 1, 1, 1, 1, 1, 1, 1, 1, 1] | 1570\n",
            "157 [1, 0, 1, 1, 0, 0, 0, 1, 1, 0] | 1580\n",
            "158 [0, 0, 0, 1, 1, 1, 1, 1, 1, 1] | 1590\n",
            "159 [0, 1, 1, 0, 0, 1, 0, 0, 0, 0] | 1600\n",
            "160 [0, 1, 1, 1, 1, 0, 1, 1, 1, 1] | 1610\n",
            "161 [1, 0, 0, 1, 1, 1, 1, 1, 0, 1] | 1620\n",
            "162 [1, 1, 0, 1, 1, 1, 1, 1, 1, 0] | 1630\n",
            "163 [1, 1, 0, 0, 1, 1, 1, 1, 0, 0] | 1640\n",
            "164 [1, 1, 1, 0, 1, 1, 1, 0, 0, 1] | 1650\n",
            "165 [1, 1, 1, 1, 1, 1, 1, 1, 1, 1] | 1660\n",
            "166 [1, 0, 1, 0, 1, 1, 0, 0, 0, 1] | 1670\n",
            "167 [1, 0, 0, 1, 1, 1, 1, 0, 0, 1] | 1680\n",
            "168 [0, 1, 0, 1, 1, 1, 1, 1, 1, 1] | 1690\n",
            "169 [1, 1, 0, 1, 1, 1, 1, 1, 1, 1] | 1700\n",
            "170 [1, 1, 1, 1, 0, 0, 1, 1, 1, 0] | 1710\n",
            "171 [1, 1, 1, 1, 1, 0, 1, 0, 1, 1] | 1720\n",
            "172 [0, 0, 1, 0, 0, 1, 1, 0, 1, 1] | 1730\n",
            "173 [1, 1, 1, 1, 1, 1, 1, 1, 1, 1] | 1740\n",
            "174 [1, 1, 1, 1, 0, 0, 1, 1, 1, 1] | 1750\n",
            "175 [1, 0, 1, 1, 1, 1, 1, 1, 1, 0] | 1760\n",
            "176 [1, 1, 1, 1, 0, 1, 0, 1, 0, 1] | 1770\n",
            "177 [1, 0, 1, 0, 1, 0, 0, 1, 0, 1] | 1780\n",
            "178 [1, 1, 1, 0, 1, 1, 1, 0, 1, 1] | 1790\n",
            "179 [1, 1, 0, 1, 1, 1, 1, 1, 1, 0] | 1800\n",
            "180 [1, 0, 1, 1, 1, 1, 0, 1, 1, 0] | 1810\n",
            "181 [1, 1, 1, 1, 1, 0, 0, 0, 1, 1] | 1820\n",
            "182 [1, 1, 1, 1, 1, 1, 0, 1, 0, 1] | 1830\n",
            "183 [1, 1, 1, 1, 1, 1, 1, 1, 1, 1] | 1840\n",
            "184 [1, 0, 1, 1, 1, 1, 1, 1, 1, 1] | 1850\n",
            "185 [1, 1, 1, 1, 1, 1, 1, 1, 1, 1] | 1860\n",
            "186 [1, 1, 1, 0, 0, 0, 0, 1, 0, 1] | 1870\n",
            "187 [1, 1, 1, 1, 1, 1, 1, 1, 1, 1] | 1880\n",
            "188 [0, 0, 1, 1, 1, 1, 1, 1, 0, 0] | 1890\n",
            "189 [1, 1, 1, 1, 0, 1, 0, 0, 0, 1] | 1900\n",
            "190 [1, 0, 1, 0, 1, 1, 0, 0, 0, 0] | 1910\n",
            "191 [0, 1, 1, 1, 1, 0, 1, 1, 1, 1] | 1920\n",
            "192 [1, 1, 1, 1, 1, 0, 1, 0, 1, 1] | 1930\n",
            "193 [0, 1, 1, 1, 0, 1, 0, 1, 1, 1] | 1940\n",
            "194 [1, 1, 1, 1, 1, 1, 1, 1, 1, 1] | 1950\n",
            "195 [1, 1, 1, 1, 1, 0, 1, 1, 0, 1] | 1960\n",
            "196 [0, 1, 1, 1, 1, 1, 0, 1, 1, 1] | 1970\n",
            "197 [1, 1, 1, 0, 1, 1, 0, 1, 1, 1] | 1980\n",
            "198 [0, 1, 1, 1, 1, 1, 1, 1, 0, 0] | 1990\n",
            "199 [1, 1, 0, 1, 1, 1, 1, 0, 1, 0] | 2000\n",
            "200 [1, 1, 1, 1, 1, 0, 0, 1, 1, 1] | 2010\n",
            "201 [1, 1, 0, 1, 1, 1, 1, 1, 1, 0] | 2020\n",
            "202 [1, 0, 1, 1, 1, 0, 1, 1, 1, 1] | 2030\n",
            "203 [1, 1, 1, 1, 0, 1, 1, 0, 0, 1] | 2040\n",
            "204 [0, 1, 1, 1, 1, 1, 0, 1, 1, 1] | 2050\n",
            "205 [1, 1, 1, 1, 1, 1, 1, 1, 1, 1] | 2060\n",
            "206 [1, 1, 1, 1, 1, 1, 1, 1, 1, 1] | 2070\n",
            "207 [1, 1, 1, 0, 1, 1, 1, 0, 1, 1] | 2080\n",
            "208 [1, 0, 1, 1, 1, 0, 1, 1, 1, 0] | 2090\n",
            "209 [1, 1, 1, 1, 0, 1, 1, 0, 1, 1] | 2100\n",
            "210 [1, 1, 1, 1, 0, 1, 1, 0, 0, 1] | 2110\n",
            "211 [1, 0, 1, 1, 1, 1, 1, 1, 1, 1] | 2120\n",
            "212 [1, 1, 0, 1, 1, 1, 1, 1, 1, 0] | 2130\n",
            "213 [1, 1, 1, 1, 1, 1, 0, 1, 1, 1] | 2140\n",
            "214 [1, 1, 0, 1, 0, 0, 1, 1, 0, 1] | 2150\n",
            "215 [0, 1, 1, 0, 1, 0, 1, 1, 1, 1] | 2160\n",
            "216 [1, 0, 1, 1, 1, 1, 1, 1, 1, 1] | 2170\n",
            "217 [0, 1, 1, 0, 1, 1, 1, 1, 1, 1] | 2180\n",
            "218 [1, 0, 1, 0, 1, 1, 1, 0, 0, 0] | 2190\n",
            "219 [1, 1, 0, 0, 1, 0, 1, 0, 0, 1] | 2200\n",
            "220 [0, 1, 0, 1, 0, 1, 1, 1, 1, 1] | 2210\n",
            "221 [0, 1, 1, 1, 0, 1, 1, 0, 0, 0] | 2220\n",
            "222 [0, 1, 1, 1, 0, 0, 1, 1, 1, 0] | 2230\n",
            "223 [0, 1, 1, 0, 1, 0, 1, 1, 1, 1] | 2240\n",
            "224 [1, 1, 1, 1, 1, 0, 0, 1, 1, 1] | 2250\n"
          ]
        }
      ],
      "source": [
        "\n",
        "import re\n",
        "i=-1\n",
        "GeminiInferP=[]\n",
        "for x in all:\n",
        "  outputs = re.findall(r'[**]*output[:]*[**]*\\s*(\\d)', x)#, re.IGNORECASE)\n",
        "  ls = [int(output) for output in outputs]\n",
        "  GeminiInferP+=ls\n",
        "  i+=1\n",
        "  print(i,ls,'|',len(GeminiInferP))\n",
        "with open('GeminiInferP.json', 'w') as file:\n",
        "    json.dump(GeminiInferP, file)"
      ]
    },
    {
      "cell_type": "code",
      "source": [
        "t=\"\"\"\n",
        "\n",
        "\n",
        "\n",
        "\"\"\"\n",
        "# all.append(t)\n",
        "print(len(all))"
      ],
      "metadata": {
        "colab": {
          "base_uri": "https://localhost:8080/"
        },
        "id": "AXeog4v4_Gb4",
        "outputId": "a75aa84c-fc21-4216-8b24-6291a86339e7"
      },
      "execution_count": null,
      "outputs": [
        {
          "output_type": "stream",
          "name": "stdout",
          "text": [
            "70\n"
          ]
        }
      ]
    },
    {
      "cell_type": "code",
      "execution_count": null,
      "metadata": {
        "colab": {
          "base_uri": "https://localhost:8080/"
        },
        "id": "Lp24ztw3Bxvp",
        "outputId": "a4ceb660-626c-4e76-9912-c09efe92d138"
      },
      "outputs": [
        {
          "output_type": "stream",
          "name": "stdout",
          "text": [
            "225\n"
          ]
        }
      ],
      "source": [
        "# all.append(t)\n",
        "with open('Gemini(hom).json', 'w') as file:\n",
        "    json.dump(GeminiInferP, file)\n",
        "print(len(all))"
      ]
    }
  ],
  "metadata": {
    "colab": {
      "provenance": []
    },
    "kernelspec": {
      "display_name": "Python 3 (ipykernel)",
      "language": "python",
      "name": "python3"
    },
    "language_info": {
      "codemirror_mode": {
        "name": "ipython",
        "version": 3
      },
      "file_extension": ".py",
      "mimetype": "text/x-python",
      "name": "python",
      "nbconvert_exporter": "python",
      "pygments_lexer": "ipython3",
      "version": "3.12.1"
    }
  },
  "nbformat": 4,
  "nbformat_minor": 0
}