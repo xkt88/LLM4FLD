{
 "cells": [
  {
   "cell_type": "code",
   "execution_count": 1,
   "id": "4bdca701-9d7c-4c26-8e65-bcaae3127098",
   "metadata": {},
   "outputs": [],
   "source": [
    "import csv\n",
    "instructions=\"\"\"\n",
    "        I will provide a list of sentences, each separated by a newline ('\\n').\n",
    "        Your task is to analyze each sentence to determine if it contains any hyperboles. \n",
    "        For each sentence, explain your reasoning and output '1' if it contains a hyperbole, or '0' if it does not. \n",
    "        Make sure your analysis is clear and concise. for example:\n",
    "        \n",
    "        INPUT:\n",
    "            1.cry a lot\n",
    "            2.He's older than the hills.\n",
    "            3.This bag weighs a ton.\n",
    "        \n",
    "        OUTPUT:\n",
    "            1.cry a lot. \n",
    "            there is no hyperbole. \n",
    "            output:0 \n",
    "            2.He's older than the hills.\n",
    "            older than hills is an exaggerated expression\n",
    "            output:1 \n",
    "            3.This bag weighs a ton.\n",
    "            a bag can't wait a ton, so it's hyperbolic.\n",
    "            output:1 \n",
    "        \n",
    "        INPUT:\n",
    "\"\"\""
   ]
  },
  {
   "cell_type": "code",
   "execution_count": 27,
   "id": "97daec24-5326-4eb7-8a48-1d533a747b2f",
   "metadata": {},
   "outputs": [
    {
     "name": "stdout",
     "output_type": "stream",
     "text": [
      "71\n"
     ]
    }
   ],
   "source": [
    "file_path = 'hypo/test.csv'\n",
    "def read_csv_in_batches(file_path, batch_size=40):\n",
    "    with open(file_path, newline='', encoding='utf-8') as csvfile:\n",
    "        reader = csv.reader(csvfile)\n",
    "        batch = []\n",
    "        i=1\n",
    "        for row in reader:\n",
    "            batch.append(str(i)+'.'+row[0])  # Assuming each row has one sentence\n",
    "            i+=1\n",
    "            if len(batch) == batch_size:\n",
    "                yield batch\n",
    "                batch = []\n",
    "                i=1\n",
    "        if batch:\n",
    "            yield batch\n",
    "raw=[]\n",
    "for batch in read_csv_in_batches(file_path, 20):\n",
    "    sen = \"\\n\".join(batch)+\"\\n\"\n",
    "    raw.append(sen)\n",
    "print(len(raw))\n",
    "    "
   ]
  },
  {
   "cell_type": "code",
   "execution_count": null,
   "id": "d5e4b35a-8f6d-4ccd-b3ec-2e3a40705b21",
   "metadata": {},
   "outputs": [],
   "source": [
    "len(all)\n",
    "import re\n",
    "i=0\n",
    "ClaudeInfer=[]\n",
    "for x in all:\n",
    "    outputs = re.findall(r'[**]*output:[**]*\\s*(\\d)', x, re.IGNORECASE)\n",
    "    ls = [int(output) for output in outputs]\n",
    "    # if(len(ls)!=20):\n",
    "    if i==66:\n",
    "        ls=ls[:15]+[0]+ls[15:]\n",
    "    if i==67:\n",
    "        ls=ls[:3]+[0]+ls[3:]\n",
    "    print(i,ls,len(ls))\n",
    "    i+=1\n",
    "    ClaudeInfer+=ls\n",
    "print(len(ClaudeInfer))"
   ]
  },
  {
   "cell_type": "code",
   "execution_count": null,
   "id": "9c883334-6085-4211-9ce4-88bf81b499f5",
   "metadata": {},
   "outputs": [],
   "source": [
    "import requests\n",
    "import json\n",
    "# url = \"https://api.anthropic.com/v1/complete\"\n",
    "url = \"https://xqtd520qidong.com/v1/chat/completions\"\n",
    "# all=[]\n",
    "# bll=[]\n",
    "headers = {\n",
    "    \"Authorization\": \"sk-UprRGG0GqQS37uH47aA0E8366b2b4c9aBbFc9c293e72A882\",\n",
    "    \"content-type\": \"application/json\"\n",
    "}\n",
    "\n",
    "sen = \"\\n\".join(raw[67])+\"\\n\"\n",
    "data = {\n",
    "\"messages\": [\n",
    "    {\n",
    "        \"role\": \"user\",\n",
    "        \"content\": instructions+sen,\n",
    "    }\n",
    "],\n",
    "\"model\": \"claude-2.1-web\",\n",
    "} \n",
    "response = requests.post(url, headers=headers, json=data)\n",
    "data = json.loads(response.text)\n",
    "content =  data[\"choices\"][0][\"message\"][\"content\"]\n",
    "all[67]=content\n",
    "print(content)\n"
   ]
  },
  {
   "cell_type": "code",
   "execution_count": null,
   "id": "86105544-c291-4442-9cae-a29e2878253c",
   "metadata": {},
   "outputs": [],
   "source": [
    "import requests\n",
    "import json\n",
    "url = \"https://api.anthropic.com/v1/complete\"\n",
    "# url = \"https://xqtd520qidong.com/v1/chat/completions\"\n",
    "all=[]\n",
    "bll=[]\n",
    "headers = {\n",
    "    \"Authorization\": \"sk-UprRGG0GqQS37uH47aA0E8366b2b4c9aBbFc9c293e72A882\",\n",
    "    \"content-type\": \"application/json\"\n",
    "}\n",
    "i=0\n",
    "for batch in read_csv_in_batches(file_path, 20):\n",
    "    i+=1\n",
    "    if i<41:\n",
    "        continue\n",
    "    sen = \"\\n\".join(batch)+\"\\n\"\n",
    "    data = {\n",
    "    \"messages\": [\n",
    "        {\n",
    "            \"role\": \"user\",\n",
    "            \"content\": instructions+sen,\n",
    "        }\n",
    "    ],\n",
    "    \"model\": \"claude-2.1-web\",\n",
    "    } \n",
    "    response = requests.post(url, headers=headers, json=data)\n",
    "    data = json.loads(response.text)\n",
    "    content =  data[\"choices\"][0][\"message\"][\"content\"]\n",
    "    bll.append(content)\n",
    "    with open('ClaudeAll2.json', 'w') as file:\n",
    "        json.dump(bll, file)\n",
    "    print(len(bll))"
   ]
  },
  {
   "cell_type": "code",
   "execution_count": null,
   "id": "f5c7a280-5374-4028-9cb7-853b84f6e8a7",
   "metadata": {},
   "outputs": [],
   "source": [
    "# print(len(all))\n",
    "all=[]\n",
    "with open('ClaudeTextArray.json', 'r') as file:\n",
    "    all = json.load(file)\n",
    "print(len(all))\n",
    "# print(all[39])\n",
    "# print(bll[0])"
   ]
  },
  {
   "cell_type": "code",
   "execution_count": null,
   "id": "198f7fa7-002c-4b9b-8695-5780051c7b47",
   "metadata": {},
   "outputs": [],
   "source": [
    "# all+=bll[1:]\n",
    "print(len(ClaudeInfer))\n",
    "with open('ClaudeInfer.json', 'w') as file:\n",
    "    json.dump(ClaudeInfer, file)"
   ]
  }
 ],
 "metadata": {
  "kernelspec": {
   "display_name": "Python 3 (ipykernel)",
   "language": "python",
   "name": "python3"
  },
  "language_info": {
   "codemirror_mode": {
    "name": "ipython",
    "version": 3
   },
   "file_extension": ".py",
   "mimetype": "text/x-python",
   "name": "python",
   "nbconvert_exporter": "python",
   "pygments_lexer": "ipython3",
   "version": "3.12.1"
  }
 },
 "nbformat": 4,
 "nbformat_minor": 5
}
