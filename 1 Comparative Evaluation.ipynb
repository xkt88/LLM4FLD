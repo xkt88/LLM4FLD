{
 "cells": [
  {
   "cell_type": "markdown",
   "id": "9bea28d5-97c3-4513-bbc2-956af9bf441a",
   "metadata": {},
   "source": [
    "# 0 Functions & Data"
   ]
  },
  {
   "cell_type": "markdown",
   "id": "cdd67f32-a495-4092-8f34-b29b151f0d20",
   "metadata": {
    "jp-MarkdownHeadingCollapsed": true
   },
   "source": [
    "## Functions"
   ]
  },
  {
   "cell_type": "code",
   "execution_count": 24,
   "id": "2c64d95c-93fa-4d3b-985a-90899b89dc6a",
   "metadata": {},
   "outputs": [],
   "source": [
    "from sklearn.metrics import precision_score, recall_score, f1_score, accuracy_score\n",
    "\n",
    "def evaluate_classification_performance(label, prediction):\n",
    "    precision = precision_score(label, prediction)\n",
    "    recall = recall_score(label, prediction)\n",
    "    f1 = f1_score(label, prediction)\n",
    "    accuracy = accuracy_score(label, prediction)\n",
    "\n",
    "    return precision, recall, f1, accuracy\n",
    "\n",
    "def calc(nlabel,label,na,a,nb,b,nc,c,nd,d):\n",
    "    t=[]\n",
    "    t.append([nlabel,'precision','recall', 'f1', 'accuracy'])\n",
    "    precision, recall, f1, accuracy = evaluate_classification_performance(label, a)\n",
    "    t.append([na,\"{:.2f}\".format(precision*100),\"{:.2f}\".format(recall*100),\"{:.2f}\".format(f1*100), \"{:.2f}\".format(accuracy*100)])\n",
    "    precision, recall, f1, accuracy = evaluate_classification_performance(label, b)\n",
    "    t.append([nb,\"{:.2f}\".format(precision*100),\"{:.2f}\".format(recall*100),\"{:.2f}\".format(f1*100), \"{:.2f}\".format(accuracy*100)])\n",
    "    precision, recall, f1, accuracy = evaluate_classification_performance(label, c)\n",
    "    t.append([nc,\"{:.2f}\".format(precision*100),\"{:.2f}\".format(recall*100),\"{:.2f}\".format(f1*100), \"{:.2f}\".format(accuracy*100)])\n",
    "    precision, recall, f1, accuracy = evaluate_classification_performance(label, d)\n",
    "    t.append([nd,\"{:.2f}\".format(precision*100),\"{:.2f}\".format(recall*100),\"{:.2f}\".format(f1*100), \"{:.2f}\".format(accuracy*100)])\n",
    "    return t\n",
    "\n",
    "def kappa(human,GPT4,GPT3,Gemini,Claude):\n",
    "    t=[]\n",
    "    t.append(['Kappa','GPT3.5','Gemini','Claude'])\n",
    "    a = cohen_kappa_score(human, GPT3)\n",
    "    b = cohen_kappa_score(human, Gemini)\n",
    "    c = cohen_kappa_score(human, Claude)\n",
    "    t.append(['Human',a,b,c])\n",
    "    a = cohen_kappa_score(GPT4, GPT3)\n",
    "    b = cohen_kappa_score(GPT4, Gemini)\n",
    "    c = cohen_kappa_score(GPT4, Claude)\n",
    "    t.append(['GPT4',a,b,c])\n",
    "    return t\n",
    "\n",
    "\n",
    "def kappa2(human,goldC,GPT4,GPT3,Gemini,Claude):\n",
    "    t=[]\n",
    "    t.append(['Kappa','GPT4','GPT3.5','Gemini','Claude'])\n",
    "    \n",
    "    a = cohen_kappa_score(human, GPT3)\n",
    "    b = cohen_kappa_score(human, Gemini)\n",
    "    c = cohen_kappa_score(human, Claude)\n",
    "    d = cohen_kappa_score(human, GPT4)\n",
    "    t.append(['Human',a,b,c,d])\n",
    "    a = cohen_kappa_score(goldC, GPT3)\n",
    "    b = cohen_kappa_score(goldC, Gemini)\n",
    "    c = cohen_kappa_score(goldC, Claude)\n",
    "    d = cohen_kappa_score(goldC, GPT4)\n",
    "    t.append(['goldC3',a,b,c,d])\n",
    "    return t\n",
    "\n",
    "\n",
    "def F1(Human,GPT4,GPT3,Gemini,Claude):\n",
    "    t=[]\n",
    "    t.append(['F1','GPT3.5','Gemini','Claude'])\n",
    "    a = f1_score(Human, GPT3)\n",
    "    b = f1_score(Human, Gemini)\n",
    "    c = f1_score(Human, Claude)\n",
    "    t.append(['Human',a,b,c])\n",
    "    a = f1_score(GPT4, GPT3)\n",
    "    b = f1_score(GPT4, Gemini)\n",
    "    c = f1_score(GPT4, Claude)\n",
    "    t.append(['GPT4',a,b,c])\n",
    "    return t\n",
    "\n",
    "\n",
    "def F1L(Human,GPT4,GPT3,Gemini,Claude):\n",
    "    a = f1_score(Human, GPT3)\n",
    "    b = f1_score(Human, Gemini)\n",
    "    c = f1_score(Human, Claude)\n",
    "    A = f1_score(GPT4, GPT3)\n",
    "    B = f1_score(GPT4, Gemini)\n",
    "    C = f1_score(GPT4, Claude)\n",
    "    return [(A/a-1)*100,100*(B/b-1),100*(C/c-1)]\n",
    "\n",
    "def ACCL(Human,GPT4,GPT3,Gemini,Claude):\n",
    "    a = accuracy_score(Human, GPT3)\n",
    "    b = accuracy_score(Human, Gemini)\n",
    "    c = accuracy_score(Human, Claude)\n",
    "    A = accuracy_score(GPT4, GPT3)\n",
    "    B = accuracy_score(GPT4, Gemini)\n",
    "    C = accuracy_score(GPT4, Claude)\n",
    "    return [(A/a-1)*100,100*(B/b-1),100*(C/c-1)]\n",
    "\n",
    "def KappaL(Human,GPT4,GPT3,Gemini,Claude):\n",
    "    a = cohen_kappa_score(Human, GPT3)\n",
    "    b = cohen_kappa_score(Human, Gemini)\n",
    "    c = cohen_kappa_score(Human, Claude)\n",
    "    A = cohen_kappa_score(GPT4, GPT3)\n",
    "    B = cohen_kappa_score(GPT4, Gemini)\n",
    "    C = cohen_kappa_score(GPT4, Claude)\n",
    "    return [(A/a-1)*100,100*(B/b-1),100*(C/c-1)]\n",
    "\n",
    "\n",
    "\n",
    "def ACC(Human,GPT4,GPT3,Gemini,Claude):\n",
    "    t=[]\n",
    "    t.append(['ACC','GPT3.5','Gemini','Claude'])\n",
    "    a = accuracy_score(Human, GPT3)\n",
    "    b = accuracy_score(Human, Gemini)\n",
    "    c = accuracy_score(Human, Claude)\n",
    "    t.append(['Human',a,b,c])\n",
    "    a = accuracy_score(GPT4, GPT3)\n",
    "    b = accuracy_score(GPT4, Gemini)\n",
    "    c = accuracy_score(GPT4, Claude)\n",
    "    t.append(['GPT4',a,b,c])\n",
    "    return t\n",
    "    \n",
    "def calculate_ratio_differences(human_scores, gpt4_scores):\n",
    "\n",
    "    if len(human_scores) != len(gpt4_scores):\n",
    "        raise ValueError(\"Lists must have the same length.\")\n",
    "\n",
    "    percentage_increases = []\n",
    "    for i in range(len(human_scores)):\n",
    "        difference = gpt4_scores[i] - human_scores[i]\n",
    "        ratio_difference = difference / human_scores[i]  \n",
    "        percentage_increase = ratio_difference * 100\n",
    "        percentage_increases.append(percentage_increase)\n",
    "\n",
    "    return percentage_increases\n",
    "\n",
    "sz=25"
   ]
  },
  {
   "cell_type": "markdown",
   "id": "e14bda71-32ab-4ea2-9c9b-ecf0f1f4f9b5",
   "metadata": {
    "jp-MarkdownHeadingCollapsed": true
   },
   "source": [
    "## Data"
   ]
  },
  {
   "cell_type": "code",
   "execution_count": 25,
   "id": "57111afc-3246-4da1-a01e-0510d8be1357",
   "metadata": {},
   "outputs": [],
   "source": [
    "import json\n",
    "with open('Data/Hyperboles/labelH.json', 'r') as file:\n",
    "    labelH = json.load(file)\n",
    "with open('Data/Hyperboles/GPT4H.json', 'r') as file:\n",
    "    GPT4H = json.load(file)\n",
    "with open('Data/Hyperboles/GPT3H.json', 'r') as file:\n",
    "    GPT3H = json.load(file) \n",
    "with open('Data/Hyperboles/GeminiH.json', 'r') as file:\n",
    "    GeminiH = json.load(file)  \n",
    "with open('Data/Hyperboles/ClaudeH.json', 'r') as file:\n",
    "    ClaudeH = json.load(file)   \n",
    "\n",
    "with open('Data/Metaphors/labelM.json', 'r') as file:\n",
    "    labelM = json.load(file)\n",
    "with open('Data/Metaphors/GPT4M.json', 'r') as file:\n",
    "    GPT4M = json.load(file)\n",
    "with open('Data/Metaphors/GPT3M.json', 'r') as file:\n",
    "    GPT3M = json.load(file)\n",
    "with open('Data/Metaphors/GeminiM.json', 'r') as file:\n",
    "    GeminiM = json.load(file)  \n",
    "with open('Data/Metaphors/ClaudeM.json', 'r') as file:\n",
    "    ClaudeM = json.load(file) \n",
    "\n",
    "with open('Data/HomographicPuns/labelP.json', 'r') as file:\n",
    "    labelP = json.load(file)\n",
    "with open('Data/HomographicPuns/GPT4P.json', 'r') as file:\n",
    "    GPT4P = json.load(file)\n",
    "with open('Data/HomographicPuns/GPT3P.json', 'r') as file:\n",
    "    GPT3P = json.load(file)\n",
    "with open('Data/HomographicPuns/GeminiP.json', 'r') as file:\n",
    "    GeminiP = json.load(file)   \n",
    "with open('Data/HomographicPuns/ClaudeP.json', 'r') as file:\n",
    "    ClaudeP = json.load(file)   \n",
    "\n",
    "with open('Data/HeterographicPuns/HeteroLabel.json', 'r') as file:\n",
    "    labelP2 = json.load(file) \n",
    "with open('Data/HeterographicPuns/GPT4P2.json', 'r') as file:\n",
    "    GPT4P2 = json.load(file)\n",
    "with open('Data/HeterographicPuns/GPT3P2.json', 'r') as file:\n",
    "    GPT3P2 = json.load(file)\n",
    "with open('Data/HeterographicPuns/GeminiP2.json', 'r') as file:\n",
    "    GeminiP2 = json.load(file)   \n",
    "with open('Data/HeterographicPuns/ClaudeP2.json', 'r') as file:\n",
    "    ClaudeP2 = json.load(file)  "
   ]
  },
  {
   "cell_type": "markdown",
   "id": "dfba11f1-02b6-4e12-a5ab-a71c8cd58428",
   "metadata": {},
   "source": [
    "# 1 Figurative Language Devices(Table 2-5)"
   ]
  },
  {
   "cell_type": "markdown",
   "id": "bec3b94a-4579-4743-afbf-526541344412",
   "metadata": {
    "jp-MarkdownHeadingCollapsed": true
   },
   "source": [
    "## Metaphors (Table 2)"
   ]
  },
  {
   "cell_type": "code",
   "execution_count": 26,
   "id": "0f23c07b-6c70-4750-828c-bccd679166d3",
   "metadata": {},
   "outputs": [
    {
     "name": "stdout",
     "output_type": "stream",
     "text": [
      "      TABEL1 Human label considered as golden\n",
      "+--------+-----------+--------+--------+----------+\n",
      "| Human  | precision | recall |   f1   | accuracy |\n",
      "+========+===========+========+========+==========+\n",
      "| Gemini | 69.210    | 78.780 | 73.680 | 75.320   |\n",
      "+--------+-----------+--------+--------+----------+\n",
      "| Claude | 69.110    | 83.440 | 75.600 | 76.380   |\n",
      "+--------+-----------+--------+--------+----------+\n",
      "| GPT3.5 | 65.350    | 61.250 | 63.240 | 68.760   |\n",
      "+--------+-----------+--------+--------+----------+\n",
      "| GPT4   | 75.620    | 78.780 | 77.170 | 79.550   |\n",
      "+--------+-----------+--------+--------+----------+\n",
      "\n"
     ]
    }
   ],
   "source": [
    "import texttable\n",
    "table = texttable.Texttable()\n",
    "t=calc('Human',labelM,'Gemini',GeminiM,'Claude',ClaudeM,'GPT3.5',GPT3M,'GPT4',GPT4M)\n",
    "table.add_rows(t)\n",
    "print(\"      TABEL1 Human label considered as golden\")\n",
    "print(table.draw(),end='\\n\\n')\n",
    "#######################################################################"
   ]
  },
  {
   "cell_type": "markdown",
   "id": "1bde0893-3b6d-4db6-9a41-4074ce556012",
   "metadata": {
    "jp-MarkdownHeadingCollapsed": true
   },
   "source": [
    "## Hyperboles(Table 3)"
   ]
  },
  {
   "cell_type": "code",
   "execution_count": 27,
   "id": "bf5aa5b0-3263-4527-8642-e64b5a08f015",
   "metadata": {},
   "outputs": [
    {
     "name": "stdout",
     "output_type": "stream",
     "text": [
      "      TABEL1 Human label considered as golden\n",
      "+--------+-----------+--------+--------+----------+\n",
      "| Human  | precision | recall |   f1   | accuracy |\n",
      "+========+===========+========+========+==========+\n",
      "| Gemini | 83.390    | 72.920 | 77.800 | 79.200   |\n",
      "+--------+-----------+--------+--------+----------+\n",
      "| Claude | 88.260    | 77.430 | 82.490 | 83.570   |\n",
      "+--------+-----------+--------+--------+----------+\n",
      "| GPT3.5 | 84.270    | 50.630 | 63.260 | 70.590   |\n",
      "+--------+-----------+--------+--------+----------+\n",
      "| GPT4   | 89.070    | 82.790 | 85.820 | 86.320   |\n",
      "+--------+-----------+--------+--------+----------+\n",
      "\n"
     ]
    }
   ],
   "source": [
    "import texttable\n",
    "table = texttable.Texttable()\n",
    "t=calc('Human',labelH,'Gemini',GeminiH,'Claude',ClaudeH,'GPT3.5',GPT3H,'GPT4',GPT4H)\n",
    "table.add_rows(t)\n",
    "print(\"      TABEL1 Human label considered as golden\")\n",
    "print(table.draw(),end='\\n\\n')\n",
    "# print_latex_table(t)"
   ]
  },
  {
   "cell_type": "markdown",
   "id": "a00eedb3-c507-42ce-9515-14885bb2c9fd",
   "metadata": {},
   "source": [
    "## Homographic Puns (Table 4)"
   ]
  },
  {
   "cell_type": "code",
   "execution_count": 28,
   "id": "16ee6b41-081e-4cff-a63c-1718ee5b4702",
   "metadata": {},
   "outputs": [
    {
     "name": "stdout",
     "output_type": "stream",
     "text": [
      "      TABEL1 Human label considered as golden\n",
      "+--------+-----------+--------+--------+----------+\n",
      "| Human  | precision | recall |   f1   | accuracy |\n",
      "+========+===========+========+========+==========+\n",
      "| Gemini | 85.070    | 93.220 | 88.950 | 83.470   |\n",
      "+--------+-----------+--------+--------+----------+\n",
      "| Claude | 93.760    | 86.930 | 90.220 | 86.530   |\n",
      "+--------+-----------+--------+--------+----------+\n",
      "| GPT3.5 | 83.690    | 84.010 | 83.850 | 76.890   |\n",
      "+--------+-----------+--------+--------+----------+\n",
      "| GPT4   | 93.850    | 94.030 | 93.940 | 91.330   |\n",
      "+--------+-----------+--------+--------+----------+\n",
      "\n"
     ]
    }
   ],
   "source": [
    "import texttable\n",
    "table = texttable.Texttable()\n",
    "t=calc('Human',labelP,'Gemini',GeminiP,'Claude',ClaudeP,'GPT3.5',GPT3P,'GPT4',GPT4P)\n",
    "table.add_rows(t)\n",
    "print(\"      TABEL1 Human label considered as golden\")\n",
    "print(table.draw(),end='\\n\\n')\n",
    "#######################################################################"
   ]
  },
  {
   "cell_type": "markdown",
   "id": "74526389-9357-4c99-8fae-883edbac435f",
   "metadata": {},
   "source": [
    "## Heterographic Puns (Table 5)"
   ]
  },
  {
   "cell_type": "code",
   "execution_count": 29,
   "id": "1fdfb915-3af9-4c73-ad7e-97cc37a8dc17",
   "metadata": {},
   "outputs": [
    {
     "name": "stdout",
     "output_type": "stream",
     "text": [
      "      TABEL1 Human label considered as golden\n",
      "+--------+-----------+--------+--------+----------+\n",
      "| Human  | precision | recall |   f1   | accuracy |\n",
      "+========+===========+========+========+==========+\n",
      "| Gemini | 85.070    | 93.220 | 88.950 | 83.470   |\n",
      "+--------+-----------+--------+--------+----------+\n",
      "| Claude | 93.760    | 86.930 | 90.220 | 86.530   |\n",
      "+--------+-----------+--------+--------+----------+\n",
      "| GPT3.5 | 83.690    | 84.010 | 83.850 | 76.890   |\n",
      "+--------+-----------+--------+--------+----------+\n",
      "| GPT4   | 93.850    | 94.030 | 93.940 | 91.330   |\n",
      "+--------+-----------+--------+--------+----------+\n",
      "\n"
     ]
    }
   ],
   "source": [
    "\n",
    "import texttable \n",
    "table = texttable.Texttable()\n",
    "t=calc('Human',labelP,'Gemini',GeminiP,'Claude',ClaudeP,'GPT3.5',GPT3P,'GPT4',GPT4P)\n",
    "table.add_rows(t)\n",
    "print(\"      TABEL1 Human label considered as golden\")\n",
    "print(table.draw(),end='\\n\\n')\n",
    "#######################################################################"
   ]
  },
  {
   "cell_type": "markdown",
   "id": "7497a493-e4f0-40be-8af9-8c51942b13b2",
   "metadata": {
    "jp-MarkdownHeadingCollapsed": true
   },
   "source": [
    "# 2 Comparative Analysis (Table 6-10, Figure 1)"
   ]
  },
  {
   "cell_type": "markdown",
   "id": "3e63bef4-2af6-4b4a-a433-04ac902415ab",
   "metadata": {
    "jp-MarkdownHeadingCollapsed": true
   },
   "source": [
    "## 2.1 GPT4 VS Golden (Table 6-9)"
   ]
  },
  {
   "cell_type": "markdown",
   "id": "a16cd048-5bb0-41c3-9c41-01a83073b2ec",
   "metadata": {},
   "source": [
    "### Metaphors (Table 6)"
   ]
  },
  {
   "cell_type": "code",
   "execution_count": 30,
   "id": "cfdc67a3-70bf-499b-8b77-ee2be6a50170",
   "metadata": {},
   "outputs": [
    {
     "name": "stdout",
     "output_type": "stream",
     "text": [
      "+--------+-------+-------+\n",
      "|   F1   | Human | GPT4  |\n",
      "+========+=======+=======+\n",
      "| GPT3.5 | 0.632 | 0.734 |\n",
      "+--------+-------+-------+\n",
      "| Gemini | 0.737 | 0.839 |\n",
      "+--------+-------+-------+\n",
      "| Claude | 0.756 | 0.856 |\n",
      "+--------+-------+-------+\n",
      "\n",
      "+--------+-------+-------+\n",
      "|  ACC   | Human | GPT4  |\n",
      "+========+=======+=======+\n",
      "| GPT3.5 | 0.688 | 0.769 |\n",
      "+--------+-------+-------+\n",
      "| Gemini | 0.753 | 0.846 |\n",
      "+--------+-------+-------+\n",
      "| Claude | 0.764 | 0.858 |\n",
      "+--------+-------+-------+\n",
      "\n",
      "+--------+-------+-------+\n",
      "| Kappa  | Human | GPT4  |\n",
      "+========+=======+=======+\n",
      "| GPT3.5 | 0.361 | 0.532 |\n",
      "+--------+-------+-------+\n",
      "| Gemini | 0.506 | 0.692 |\n",
      "+--------+-------+-------+\n",
      "| Claude | 0.531 | 0.718 |\n",
      "+--------+-------+-------+\n"
     ]
    }
   ],
   "source": [
    "from sklearn.metrics import cohen_kappa_score\n",
    "import texttable\n",
    "\n",
    "table = texttable.Texttable()\n",
    "t=F1(labelM,GPT4M,GPT3M,GeminiM,ClaudeM)\n",
    "td = list(map(list, zip(*t)))\n",
    "table.add_rows(td)\n",
    "print(table.draw(),end='\\n\\n')\n",
    "####--------------------------------------------------------------------------\n",
    "table = texttable.Texttable()\n",
    "t=ACC(labelM,GPT4M,GPT3M,GeminiM,ClaudeM)\n",
    "td = list(map(list, zip(*t)))\n",
    "table.add_rows(td)\n",
    "print(table.draw(),end='\\n\\n')\n",
    "####--------------------------------------------------------------------------\n",
    "table = texttable.Texttable()\n",
    "t=kappa(labelM,GPT4M,GPT3M,GeminiM,ClaudeM)\n",
    "td = list(map(list, zip(*t)))\n",
    "table.add_rows(td)\n",
    "print(table.draw())\n",
    "\n",
    "# cohen_kappa_score(GeminiInferH,labelH)"
   ]
  },
  {
   "cell_type": "markdown",
   "id": "d68f8a20-88b9-4924-a063-c4e975b988a9",
   "metadata": {},
   "source": [
    "### Hyperboles (Table 7)"
   ]
  },
  {
   "cell_type": "code",
   "execution_count": 31,
   "id": "54cd72dc-eec0-455e-b8c2-55cc193f00eb",
   "metadata": {
    "scrolled": true
   },
   "outputs": [
    {
     "name": "stdout",
     "output_type": "stream",
     "text": [
      "+--------+-------+-------+\n",
      "|   F1   | Human | GPT4  |\n",
      "+========+=======+=======+\n",
      "| GPT3.5 | 0.633 | 0.654 |\n",
      "+--------+-------+-------+\n",
      "| Gemini | 0.778 | 0.807 |\n",
      "+--------+-------+-------+\n",
      "| Claude | 0.825 | 0.842 |\n",
      "+--------+-------+-------+\n",
      "\n",
      "+--------+-------+-------+\n",
      "|  ACC   | Human | GPT4  |\n",
      "+========+=======+=======+\n",
      "| GPT3.5 | 0.706 | 0.736 |\n",
      "+--------+-------+-------+\n",
      "| Gemini | 0.792 | 0.826 |\n",
      "+--------+-------+-------+\n",
      "| Claude | 0.836 | 0.857 |\n",
      "+--------+-------+-------+\n",
      "\n",
      "+--------+-------+-------+\n",
      "| Kappa  | Human | GPT4  |\n",
      "+========+=======+=======+\n",
      "| GPT3.5 | 0.412 | 0.456 |\n",
      "+--------+-------+-------+\n",
      "| Gemini | 0.584 | 0.649 |\n",
      "+--------+-------+-------+\n",
      "| Claude | 0.671 | 0.711 |\n",
      "+--------+-------+-------+\n"
     ]
    }
   ],
   "source": [
    "from sklearn.metrics import cohen_kappa_score\n",
    "import texttable\n",
    "\n",
    "table = texttable.Texttable()\n",
    "t=F1(labelH,GPT4H,GPT3H,GeminiH,ClaudeH)\n",
    "td = list(map(list, zip(*t)))\n",
    "table.add_rows(td)\n",
    "print(table.draw(),end='\\n\\n')\n",
    "####--------------------------------------------------------------------------\n",
    "table = texttable.Texttable()\n",
    "t=ACC(labelH,GPT4H,GPT3H,GeminiH,ClaudeH)\n",
    "td = list(map(list, zip(*t)))\n",
    "table.add_rows(td)\n",
    "print(table.draw(),end='\\n\\n')\n",
    "####--------------------------------------------------------------------------\n",
    "table = texttable.Texttable()\n",
    "t=kappa(labelH,GPT4H,GPT3H,GeminiH,ClaudeH)\n",
    "td = list(map(list, zip(*t)))\n",
    "table.add_rows(td)\n",
    "print(table.draw())\n",
    "\n",
    "# cohen_kappa_score(GeminiInferH,labelH)"
   ]
  },
  {
   "cell_type": "markdown",
   "id": "16582bdd-bd96-43ca-9a00-8db55008aa45",
   "metadata": {},
   "source": [
    "### Homographic Puns (Table 8)"
   ]
  },
  {
   "cell_type": "code",
   "execution_count": 32,
   "id": "ea117c0e-366b-445a-a0e3-14f48ee76d76",
   "metadata": {},
   "outputs": [
    {
     "name": "stdout",
     "output_type": "stream",
     "text": [
      "+--------+-------+-------+\n",
      "|   F1   | Human | GPT4  |\n",
      "+========+=======+=======+\n",
      "| GPT3.5 | 0.839 | 0.859 |\n",
      "+--------+-------+-------+\n",
      "| Gemini | 0.890 | 0.885 |\n",
      "+--------+-------+-------+\n",
      "| Claude | 0.902 | 0.911 |\n",
      "+--------+-------+-------+\n",
      "\n",
      "+--------+-------+-------+\n",
      "|  ACC   | Human | GPT4  |\n",
      "+========+=======+=======+\n",
      "| GPT3.5 | 0.769 | 0.798 |\n",
      "+--------+-------+-------+\n",
      "| Gemini | 0.835 | 0.827 |\n",
      "+--------+-------+-------+\n",
      "| Claude | 0.865 | 0.877 |\n",
      "+--------+-------+-------+\n",
      "\n",
      "+--------+-------+-------+\n",
      "| Kappa  | Human | GPT4  |\n",
      "+========+=======+=======+\n",
      "| GPT3.5 | 0.432 | 0.503 |\n",
      "+--------+-------+-------+\n",
      "| Gemini | 0.564 | 0.543 |\n",
      "+--------+-------+-------+\n",
      "| Claude | 0.687 | 0.715 |\n",
      "+--------+-------+-------+\n"
     ]
    }
   ],
   "source": [
    "from sklearn.metrics import cohen_kappa_score\n",
    "import texttable\n",
    "\n",
    "table = texttable.Texttable()\n",
    "t=F1(labelP,GPT4P,GPT3P,GeminiP,ClaudeP)\n",
    "td = list(map(list, zip(*t)))\n",
    "table.add_rows(td)\n",
    "print(table.draw(),end='\\n\\n')\n",
    "####--------------------------------------------------------------------------\n",
    "table = texttable.Texttable()\n",
    "t=ACC(labelP,GPT4P,GPT3P,GeminiP,ClaudeP)\n",
    "td = list(map(list, zip(*t)))\n",
    "table.add_rows(td)\n",
    "print(table.draw(),end='\\n\\n')\n",
    "####--------------------------------------------------------------------------\n",
    "table = texttable.Texttable()\n",
    "t=kappa(labelP,GPT4P,GPT3P,GeminiP,ClaudeP)\n",
    "td = list(map(list, zip(*t)))\n",
    "table.add_rows(td)\n",
    "print(table.draw())"
   ]
  },
  {
   "cell_type": "markdown",
   "id": "5bc5268e-5f6c-4d9b-842f-6e4153f7e182",
   "metadata": {},
   "source": [
    "### Heterographic Puns (Table 9)"
   ]
  },
  {
   "cell_type": "code",
   "execution_count": 33,
   "id": "532128d3-0f43-4a3d-8b6d-519487d4262a",
   "metadata": {},
   "outputs": [
    {
     "name": "stdout",
     "output_type": "stream",
     "text": [
      "+--------+-------+-------+\n",
      "|   F1   | Human | GPT4  |\n",
      "+========+=======+=======+\n",
      "| GPT3.5 | 0.839 | 0.859 |\n",
      "+--------+-------+-------+\n",
      "| Gemini | 0.890 | 0.885 |\n",
      "+--------+-------+-------+\n",
      "| Claude | 0.902 | 0.911 |\n",
      "+--------+-------+-------+\n",
      "\n",
      "+--------+-------+-------+\n",
      "|  ACC   | Human | GPT4  |\n",
      "+========+=======+=======+\n",
      "| GPT3.5 | 0.769 | 0.798 |\n",
      "+--------+-------+-------+\n",
      "| Gemini | 0.835 | 0.827 |\n",
      "+--------+-------+-------+\n",
      "| Claude | 0.865 | 0.877 |\n",
      "+--------+-------+-------+\n",
      "\n",
      "+--------+-------+-------+\n",
      "| Kappa  | Human | GPT4  |\n",
      "+========+=======+=======+\n",
      "| GPT3.5 | 0.432 | 0.503 |\n",
      "+--------+-------+-------+\n",
      "| Gemini | 0.564 | 0.543 |\n",
      "+--------+-------+-------+\n",
      "| Claude | 0.687 | 0.715 |\n",
      "+--------+-------+-------+\n"
     ]
    }
   ],
   "source": [
    " \n",
    "table = texttable.Texttable()\n",
    "t=F1(labelP,GPT4P,GPT3P,GeminiP,ClaudeP)\n",
    "td = list(map(list, zip(*t)))\n",
    "table.add_rows(td)\n",
    "print(table.draw(),end='\\n\\n')\n",
    "####--------------------------------------------------------------------------\n",
    "table = texttable.Texttable()\n",
    "t=ACC(labelP,GPT4P,GPT3P,GeminiP,ClaudeP)\n",
    "td = list(map(list, zip(*t)))\n",
    "table.add_rows(td)\n",
    "print(table.draw(),end='\\n\\n')\n",
    "####--------------------------------------------------------------------------\n",
    "table = texttable.Texttable()\n",
    "t=kappa(labelP,GPT4P,GPT3P,GeminiP,ClaudeP)\n",
    "td = list(map(list, zip(*t)))\n",
    "table.add_rows(td)\n",
    "print(table.draw())"
   ]
  },
  {
   "cell_type": "markdown",
   "id": "0ba3a8f5-8a41-41cd-9b3a-f477dca34465",
   "metadata": {
    "jp-MarkdownHeadingCollapsed": true
   },
   "source": [
    "## 2.2 Relative Agreement Discrepancy(RAD) (Figure 1)"
   ]
  },
  {
   "cell_type": "markdown",
   "id": "2617eac2-3c96-4ea9-9aba-e14a1a625e7a",
   "metadata": {},
   "source": [
    "### Metaphor RAD (Figure 1 (a))"
   ]
  },
  {
   "cell_type": "code",
   "execution_count": 34,
   "id": "756f0849-a448-41e2-8181-20ca08a3d671",
   "metadata": {},
   "outputs": [
    {
     "data": {
      "image/png": "[encoded data removed]",
      "text/plain": [
       "<Figure size 1000x600 with 1 Axes>"
      ]
     },
     "metadata": {},
     "output_type": "display_data"
    }
   ],
   "source": [
    "# Data for the increases\n",
    "models = ['GPT3.5', 'Gemini', 'Claude']\n",
    "F1_increases = [16.13924050632911, 13.839891451831749, 13.227513227513224]\n",
    "Acc_increases = [15.988372093023271, 9.827357237715798, 14.790575916230363]\n",
    "Kappa_increases = [47.36842105263159, 36.7588932806324, 35.21657250470809]\n",
    "\n",
    "import matplotlib.pyplot as plt\n",
    "import numpy as np\n",
    "# The x position of clusters\n",
    "index = np.arange(len(models))\n",
    "bar_width = 0.3\n",
    "\n",
    "# Create a figure and a set of subplots\n",
    "fig, ax = plt.subplots(figsize=(10, 6))\n",
    "\n",
    "# Plot the increases for F1\n",
    "F1_bars = ax.bar(index - bar_width, F1_increases, bar_width, label='F1', color='skyblue')\n",
    "\n",
    "# Plot the increases for Accuracy\n",
    "Acc_bars = ax.bar(index, Acc_increases, bar_width, label='Accuracy', color='coral')\n",
    "\n",
    "# Plot the increases for Kappa\n",
    "Kappa_bars = ax.bar(index + bar_width, Kappa_increases, bar_width, label='Kappa', color='yellowgreen')\n",
    "\n",
    "# Set the labels and title\n",
    "# ax.set_xlabel('Models')\n",
    "ax.set_ylabel('Increase (%)',fontsize=sz)\n",
    "# ax.set_title('Increases in F1, Accuracy, and Kappa Scores')\n",
    "ax.set_xticks(index)\n",
    "ax.set_xticklabels(models)\n",
    "ax.set_xticklabels(models, fontsize=sz)\n",
    "ax.set_ylim(top=52)\n",
    "# Add value labels on bars\n",
    "def add_labels(bars):\n",
    "    for bar in bars:\n",
    "        height = bar.get_height()\n",
    "        ax.annotate(f'{height:.1f}',\n",
    "                    xy=(bar.get_x() + bar.get_width() / 2, height),\n",
    "                    xytext=(0, -1),  # Vertical offset\n",
    "                    textcoords=\"offset points\",\n",
    "                    ha='center', va='bottom', fontsize=sz)\n",
    "\n",
    "add_labels(F1_bars)\n",
    "add_labels(Acc_bars)\n",
    "add_labels(Kappa_bars)\n",
    "\n",
    "# Add a legend\n",
    "ax.legend(fontsize=15)\n",
    "plt.grid(axis='y', linestyle='--', alpha=0.6)\n",
    "# Show the plot\n",
    "plt.tight_layout()\n",
    "# plt.savefig('Metaphor.png')\n",
    "plt.show()"
   ]
  },
  {
   "cell_type": "markdown",
   "id": "72d7d30e-7145-4894-907c-21a4ca014091",
   "metadata": {},
   "source": [
    "### Hyperbole RAD (Figure 1 (b))"
   ]
  },
  {
   "cell_type": "code",
   "execution_count": 35,
   "id": "5d36d6b3-6f95-45c4-b873-08e0b3cb7906",
   "metadata": {},
   "outputs": [
    {
     "data": {
      "image/png": "[encoded data removed]",
      "text/plain": [
       "<Figure size 1000x600 with 1 Axes>"
      ]
     },
     "metadata": {},
     "output_type": "display_data"
    }
   ],
   "source": [
    "#Hyperboles\n",
    "models = ['GPT3.5', 'Gemini', 'Claude']  # This remains the same\n",
    "F1_increases =  [3.3175355450237, 3.7275064267352223, 2.0606060606060623]\n",
    "Acc_increases =  [13.031161473087833, 4.419191919191909, 4.904306220095698]\n",
    "Kappa_increases =  [10.679611650485448, 11.13013698630138, 5.961251862891196]\n",
    "\n",
    "import matplotlib.pyplot as plt\n",
    "import numpy as np\n",
    "# The x position of clusters\n",
    "index = np.arange(len(models))\n",
    "bar_width = 0.3\n",
    "\n",
    "# Create a figure and a set of subplots\n",
    "fig, ax = plt.subplots(figsize=(10, 6))\n",
    "\n",
    "# Plot the increases for F1\n",
    "F1_bars = ax.bar(index - bar_width, F1_increases, bar_width, label='F1', color='skyblue')\n",
    "\n",
    "# Plot the increases for Accuracy\n",
    "Acc_bars = ax.bar(index, Acc_increases, bar_width, label='Accuracy', color='coral')\n",
    "\n",
    "# Plot the increases for Kappa\n",
    "Kappa_bars = ax.bar(index + bar_width, Kappa_increases, bar_width, label='Kappa', color='yellowgreen')\n",
    "\n",
    "# Set the labels and title\n",
    "# ax.set_xlabel('Models')\n",
    "ax.set_ylabel('Increase (%)',fontsize=sz)\n",
    "# ax.set_title('Increases in F1, Accuracy, and Kappa Scores')\n",
    "ax.set_xticks(index)\n",
    "ax.set_xticklabels(models)\n",
    "ax.set_xticklabels(models, fontsize=sz)\n",
    "ax.set_ylim(top=52)\n",
    "# Add value labels on bars\n",
    "def add_labels(bars):\n",
    "    for bar in bars:\n",
    "        height = bar.get_height()\n",
    "        ax.annotate(f'{height:.1f}',\n",
    "                    xy=(bar.get_x() + bar.get_width() / 2, height),\n",
    "                    xytext=(0, 1),  # Vertical offset\n",
    "                    textcoords=\"offset points\",\n",
    "                    ha='center', va='bottom', fontsize=sz)\n",
    "\n",
    "add_labels(F1_bars)\n",
    "add_labels(Acc_bars)\n",
    "add_labels(Kappa_bars)\n",
    "\n",
    "# Add a legend\n",
    "ax.legend(fontsize=15)\n",
    "plt.grid(axis='y', linestyle='--', alpha=0.6)\n",
    "# Show the plot\n",
    "plt.tight_layout()\n",
    "# plt.savefig('Hyperbole.png')\n",
    "plt.show()\n"
   ]
  },
  {
   "cell_type": "markdown",
   "id": "9cbfa71a-84c4-4e90-9fd0-ef5b933919da",
   "metadata": {},
   "source": [
    "### Homographic Pun RAD (Figure 1 (c))"
   ]
  },
  {
   "cell_type": "code",
   "execution_count": 36,
   "id": "1b5112a6-5225-466a-a66a-f78bee1fb669",
   "metadata": {},
   "outputs": [
    {
     "data": {
      "image/png": "[encoded data removed]",
      "text/plain": [
       "<Figure size 1000x600 with 1 Axes>"
      ]
     },
     "metadata": {},
     "output_type": "display_data"
    }
   ],
   "source": [
    "import matplotlib.pyplot as plt\n",
    "import numpy as np\n",
    "\n",
    "models = ['GPT3.5', 'Gemini', 'Claude']\n",
    "F1_increases = [2.3837902264600737, -0.5617977528089892, 0.9977827050997791]\n",
    "Acc_increases = [3.771131339401824, -0.9580838323353302, 1.387283236994221]\n",
    "Kappa_increases = [16.435185185185187, -3.723404255319133, 4.07569141193594]\n",
    "\n",
    "index = np.arange(len(models))\n",
    "bar_width = 0.3\n",
    "\n",
    "fig, ax = plt.subplots(figsize=(10, 6))\n",
    "\n",
    "F1_bars = ax.bar(index - bar_width, F1_increases, bar_width, label='F1', color='skyblue')\n",
    "Acc_bars = ax.bar(index, Acc_increases, bar_width, label='Accuracy', color='coral')\n",
    "Kappa_bars = ax.bar(index + bar_width, Kappa_increases, bar_width, label='Kappa', color='yellowgreen')\n",
    "\n",
    "ax.set_ylabel('Increase (%)',fontsize=sz)\n",
    "# ax.set_title('Increases in F1, Accuracy, and Kappa Scores')\n",
    "ax.set_xticks(index)\n",
    "ax.set_xticklabels(models, fontsize=sz)\n",
    "ax.set_ylim(bottom=-4,top=48)\n",
    "# ax.set_ylim(buttom=-10)\n",
    "def add_labels(bars):\n",
    "    for bar in bars:\n",
    "        height = bar.get_height()\n",
    "        if height < 0:\n",
    "            color = 'red'\n",
    "            ax.annotate(f'{height:.1f}',\n",
    "                        xy=(bar.get_x() + bar.get_width() / 2, 0),\n",
    "                        xycoords='data',\n",
    "                        xytext=(0, 3),\n",
    "                        textcoords='offset points',\n",
    "                        ha='center', va='bottom', fontsize=sz,\n",
    "                        color=color)\n",
    "        else:\n",
    "            ax.annotate(f'{height:.1f}',\n",
    "                        xy=(bar.get_x() + bar.get_width() / 2, height),\n",
    "                        xytext=(0, 1),\n",
    "                        textcoords='offset points',\n",
    "                        ha='center', va='bottom', fontsize=sz)\n",
    "\n",
    "add_labels(F1_bars)\n",
    "add_labels(Acc_bars)\n",
    "add_labels(Kappa_bars)\n",
    "\n",
    "ax.legend(fontsize=15)\n",
    "plt.grid(axis='y', linestyle='--', alpha=0.6)\n",
    "\n",
    "plt.tight_layout()\n",
    "# plt.savefig('pun1.png')\n",
    "plt.show()"
   ]
  },
  {
   "cell_type": "markdown",
   "id": "effd0a4d-fafd-49f5-a784-416920c4713b",
   "metadata": {},
   "source": [
    "### Heterographic Pun RAD (Figure 1 (d))"
   ]
  },
  {
   "cell_type": "code",
   "execution_count": 37,
   "id": "509e83d5-fd00-401f-8f09-3b8ec83f7a08",
   "metadata": {},
   "outputs": [
    {
     "data": {
      "image/png": "[encoded data removed]",
      "text/plain": [
       "<Figure size 1000x600 with 1 Axes>"
      ]
     },
     "metadata": {},
     "output_type": "display_data"
    }
   ],
   "source": [
    "import matplotlib.pyplot as plt\n",
    "import numpy as np\n",
    "\n",
    "models = ['GPT3.5', 'Gemini', 'Claude']\n",
    "F1_increases= [-0.3295524218271062, -0.703539359821348, -0.5742782450556927]\n",
    "Acc_increases= [2.094647013188511, 0.6143344709897747, 0.6020066889632192]\n",
    "Kappa_increases= [14.52046154176787, 2.979901684846964, 2.802065123258446]\n",
    "\n",
    "index = np.arange(len(models))\n",
    "bar_width = 0.3\n",
    "\n",
    "fig, ax = plt.subplots(figsize=(10, 6))\n",
    "\n",
    "F1_bars = ax.bar(index - bar_width, F1_increases, bar_width, label='F1', color='skyblue')\n",
    "Acc_bars = ax.bar(index, Acc_increases, bar_width, label='Accuracy', color='coral')\n",
    "Kappa_bars = ax.bar(index + bar_width, Kappa_increases, bar_width, label='Kappa', color='yellowgreen')\n",
    "\n",
    "ax.set_ylabel('Increase (%)',fontsize=sz)\n",
    "# ax.set_title('Increases in F1, Accuracy, and Kappa Scores')\n",
    "ax.set_xticks(index)\n",
    "ax.set_xticklabels(models, fontsize=sz)\n",
    "ax.set_ylim(bottom=-4,top=48)\n",
    "# ax.set_ylim(buttom=-10)\n",
    "def add_labels(bars):\n",
    "    for bar in bars:\n",
    "        height = bar.get_height()\n",
    "        if height < 0:\n",
    "            color = 'red'\n",
    "            ax.annotate(f'{height:.1f}',\n",
    "                        xy=(bar.get_x() + bar.get_width() / 2, 0),\n",
    "                        xycoords='data',\n",
    "                        xytext=(0, 3),\n",
    "                        textcoords='offset points',\n",
    "                        ha='center', va='bottom', fontsize=sz,\n",
    "                        color=color)\n",
    "        else:\n",
    "            ax.annotate(f'{height:.1f}',\n",
    "                        xy=(bar.get_x() + bar.get_width() / 2, height),\n",
    "                        xytext=(0, 1),\n",
    "                        textcoords='offset points',\n",
    "                        ha='center', va='bottom', fontsize=sz)\n",
    "\n",
    "add_labels(F1_bars)\n",
    "add_labels(Acc_bars)\n",
    "add_labels(Kappa_bars)\n",
    "\n",
    "ax.legend(fontsize=15)\n",
    "plt.grid(axis='y', linestyle='--', alpha=0.6)\n",
    "\n",
    "plt.tight_layout()\n",
    "# plt.savefig('pun2.png')\n",
    "plt.show()"
   ]
  },
  {
   "cell_type": "markdown",
   "id": "dd8a665a-91af-4382-b6e1-e87862ad1206",
   "metadata": {
    "jp-MarkdownHeadingCollapsed": true
   },
   "source": [
    "## 2.3 K-alpha (Table 10)"
   ]
  },
  {
   "cell_type": "code",
   "execution_count": 38,
   "id": "4a2c2632-d4bb-459d-bf98-24741a584f78",
   "metadata": {},
   "outputs": [
    {
     "name": "stdout",
     "output_type": "stream",
     "text": [
      " TABLE Agreement with Gemini,Claude,GPT3.5\n",
      "+---------+-----------+----------+----------------+------------------+\n",
      "| K-alpha | Hyperbole | Metaphor | HomographicPun | HeterographicPun |\n",
      "+=========+===========+==========+================+==================+\n",
      "| Human   | 0.530     | 0.511    | 0.504          | 0.529            |\n",
      "+---------+-----------+----------+----------------+------------------+\n",
      "| GPT4    | 0.556     | 0.602    | 0.517          | 0.558            |\n",
      "+---------+-----------+----------+----------------+------------------+\n",
      "\n"
     ]
    }
   ],
   "source": [
    "import krippendorff\n",
    "import texttable\n",
    "table = texttable.Texttable()\n",
    "t=[]\n",
    "t.append(['K-alpha','Hyperbole','Metaphor','HomographicPun','HeterographicPun'])\n",
    "data = [labelH, GeminiH,ClaudeH,GPT3H]\n",
    "a = krippendorff.alpha(reliability_data=data, level_of_measurement='nominal')\n",
    "data = [labelM, GeminiM,ClaudeM,GPT3M]\n",
    "b = krippendorff.alpha(reliability_data=data, level_of_measurement='nominal')\n",
    "data = [labelP, GeminiP,ClaudeP,GPT3P]\n",
    "c = krippendorff.alpha(reliability_data=data, level_of_measurement='nominal')\n",
    "data = [labelP2, GeminiP2,ClaudeP2,GPT3P2]\n",
    "d = krippendorff.alpha(reliability_data=data, level_of_measurement='nominal')\n",
    "t.append(['Human',a,b,c,d])\n",
    "data = [GPT4H, GeminiH,ClaudeH,GPT3H]\n",
    "a = krippendorff.alpha(reliability_data=data, level_of_measurement='nominal')\n",
    "data = [GPT4M, GeminiM,ClaudeM,GPT3M]\n",
    "b = krippendorff.alpha(reliability_data=data, level_of_measurement='nominal')\n",
    "data = [GPT4P, GeminiP,ClaudeP,GPT3P]\n",
    "c = krippendorff.alpha(reliability_data=data, level_of_measurement='nominal')\n",
    "data = [GPT4P2, GeminiP2,ClaudeP2,GPT3P2]\n",
    "d = krippendorff.alpha(reliability_data=data, level_of_measurement='nominal')\n",
    "t.append(['GPT4',a,b,c,d])\n",
    "print(\" TABLE Agreement with Gemini,Claude,GPT3.5\")\n",
    "table.add_rows(t)\n",
    "print(table.draw(),end='\\n\\n')"
   ]
  },
  {
   "cell_type": "markdown",
   "id": "e61e6f21-c13b-43a5-b94b-87b2a2e1348a",
   "metadata": {},
   "source": [
    "# 3 Further Analysis of Metaphor Detection Divergence"
   ]
  },
  {
   "cell_type": "markdown",
   "id": "e18a6d11-fa59-426f-a334-f2c96021ea7a",
   "metadata": {
    "jp-MarkdownHeadingCollapsed": true
   },
   "source": [
    "## 3.1 Derive $S_0 $ (Equation 2)"
   ]
  },
  {
   "cell_type": "code",
   "execution_count": 39,
   "id": "47cdcfbf-6b5c-4e18-92b1-77097f0c4884",
   "metadata": {},
   "outputs": [
    {
     "name": "stdout",
     "output_type": "stream",
     "text": [
      "1418\n",
      "290\n"
     ]
    }
   ],
   "source": [
    "import csv\n",
    "csv_file_path = 'Data/Metaphors/metaphors.csv'\n",
    "sl = []# short for sentence list\n",
    "with open(csv_file_path, 'r', newline='', encoding='utf-8') as csvfile:\n",
    "    csvreader = csv.reader(csvfile)\n",
    "    for row in csvreader:\n",
    "        if row:  # This checks that the row is not empty\n",
    "            sl.append(row[0])\n",
    "print(len(sl))\n",
    "\n",
    "Di=[] # Index of Different label of GPT-4 and golden ,i.e.,index of S_0\n",
    "for i in range(len(labelM)):\n",
    "    if labelM[i]!=GPT4M[i]:\n",
    "        Di.append(i)\n",
    "print(len(Di))\n",
    "\n",
    "DL=[]# list to contain the labels of indexes in Di，label of S_0\n",
    "DS=[]# list to contain the corresponding sentence of DL, sentence of S_0\n",
    "for i in Di:\n",
    "    DL.append(GPT4M[i])\n",
    "    DS.append(sl[i])"
   ]
  },
  {
   "cell_type": "markdown",
   "id": "2d6ba530-2451-449a-869b-b9fbb4c21a50",
   "metadata": {
    "jp-MarkdownHeadingCollapsed": true
   },
   "source": [
    "## 3.2 Derive $X$ and $Y$ (Equation 3,4)"
   ]
  },
  {
   "cell_type": "code",
   "execution_count": 40,
   "id": "614b7edc-f0d0-4a66-8cae-c358e12bc0a5",
   "metadata": {},
   "outputs": [
    {
     "data": {
      "image/png": "[encoded data removed]",
      "text/plain": [
       "<Figure size 1000x600 with 2 Axes>"
      ]
     },
     "metadata": {},
     "output_type": "display_data"
    },
    {
     "name": "stdout",
     "output_type": "stream",
     "text": [
      "0.8092468968368244\n"
     ]
    }
   ],
   "source": [
    "import numpy as np\n",
    "import pandas as pd\n",
    "from sklearn.metrics import cohen_kappa_score\n",
    "import seaborn as sns\n",
    "import matplotlib.pyplot as plt\n",
    "import json\n",
    "with open('Qualitative Analysis/P1.json', 'r') as file:\n",
    "    P1 = json.load(file)\n",
    "with open('Qualitative Analysis/P2.json', 'r') as file:\n",
    "    P2 = json.load(file)\n",
    "with open('Qualitative Analysis/P3.json', 'r') as file:\n",
    "    P3 = json.load(file)\n",
    "with open('Qualitative Analysis/P4.json', 'r') as file:\n",
    "    P4 = json.load(file)\n",
    "# Assuming Cs and StarN are defined elsewhere in your code\n",
    "Cs = [P1, P2, P3, P4]\n",
    "# Ss = [StarN(1, Cs), StarN(2, Cs), StarN(3, Cs), StarN(4, Cs), StarN(5, Cs)]\n",
    "kappa_matrix = np.zeros((len(Cs), len(Cs)))\n",
    "sum = 0\n",
    "# Calculate Cohen's kappa values\n",
    "for i in range(len(Cs)):\n",
    "    for j in range(len(Cs)):\n",
    "        kappa_matrix[i, j] = cohen_kappa_score(Cs[i], Cs[j])\n",
    "        if i<j:\n",
    "            sum = sum + cohen_kappa_score(Cs[i], Cs[j])\n",
    "# Convert the kappa matrix to a DataFrame for better visualization\n",
    "kappa_df = pd.DataFrame(kappa_matrix, index=[f'C{i+1}' for i in range(len(Cs))], columns=[f'C{j+1}' for j in range(len(Cs))])\n",
    "\n",
    "# Drop the first row (C1) and the last column (C5)\n",
    "kappa_df = kappa_df.drop('C1', axis=0)\n",
    "kappa_df = kappa_df.drop(f'C{len(Cs)}', axis=1)\n",
    "\n",
    "# Create a mask for the upper triangle only (excluding the diagonal)\n",
    "mask = np.triu(np.ones_like(kappa_df, dtype=bool), k=1)\n",
    "\n",
    "# Plot the heatmap with the mask applied\n",
    "plt.figure(figsize=(10, 6))\n",
    "sns.heatmap(kappa_df, annot=True, cmap='coolwarm', mask=mask, cbar_kws={'label': \"Cohen's Kappa\"})\n",
    "plt.title(\"Cohen's Kappa Heatmap\")\n",
    "plt.show()\n",
    "print(sum/6)"
   ]
  },
  {
   "cell_type": "code",
   "execution_count": 41,
   "id": "f620e9f6-6c7b-499e-8c62-1468584bb2d5",
   "metadata": {},
   "outputs": [
    {
     "name": "stdout",
     "output_type": "stream",
     "text": [
      "77 167 244\n"
     ]
    }
   ],
   "source": [
    "X,Y = [],[]\n",
    "for i in range(len(P1)):\n",
    "    if(P1[i]*P2[i]*P3[i]*P4[i]==1):\n",
    "        X.append(i)\n",
    "    if(P1[i]+P2[i]+P3[i]+P4[i]==0):\n",
    "        Y.append(i)\n",
    "print(len(X),len(Y),len(X)+len(Y))"
   ]
  },
  {
   "cell_type": "markdown",
   "id": "9b28d5a2-261c-4ca9-9f03-9509b0910b6b",
   "metadata": {},
   "source": [
    "## 3.3 Derive $S_1$,$S_2$,$S_3$,$S_4$ (Equation 5,6,7,8)"
   ]
  },
  {
   "cell_type": "code",
   "execution_count": 42,
   "id": "16cc363b-042f-4082-bd9a-9a1eaa627525",
   "metadata": {},
   "outputs": [
    {
     "name": "stdout",
     "output_type": "stream",
     "text": [
      "53 24 89 78\n"
     ]
    }
   ],
   "source": [
    "S1,S2,S3,S4=[],[],[],[]\n",
    "# for i in range(len(C1)):\n",
    "for i in X:\n",
    "    if(DL[i]==1):\n",
    "        S1.append(i)\n",
    "    if(DL[i]==0):\n",
    "        S2.append(i)\n",
    "for i in Y:\n",
    "    if(DL[i]==0):\n",
    "        S3.append(i)\n",
    "    if(DL[i]==1):\n",
    "        S4.append(i)\n",
    "print(len(S1),len(S2),len(S3),len(S4))"
   ]
  },
  {
   "cell_type": "markdown",
   "id": "ef5af47a-6462-4af1-93ad-1a290f7c5498",
   "metadata": {
    "jp-MarkdownHeadingCollapsed": true
   },
   "source": [
    "### $S_1$ (Equation 5)"
   ]
  },
  {
   "cell_type": "code",
   "execution_count": 43,
   "id": "65c13f82-c6ff-464f-adc2-b36966e6cef0",
   "metadata": {},
   "outputs": [
    {
     "name": "stdout",
     "output_type": "stream",
     "text": [
      "Art is my peace of mind.\n",
      "March comes in like a lion, and goes out like a lamb.\n",
      "He that drinks beer, only thinks beer.\n",
      "She feels she is in the darkness: she's desperate.\n",
      "You'll devour the book in a couple of days.\n",
      "I am sitting here, throned in blue sky like a sphinx.\n",
      "There are cascades of clothes in my wardrobe!\n",
      "They were in a daze when arguing with that manipulator.\n",
      "You have ravished me away by a power I am unable to resist.\n",
      "The study of beauty is a duel in which the artist suffers.\n",
      "You always concentrate my whole senses.\n",
      "Dresden was kind of the moon, it did not have many appeals.\n",
      "The mail was taking on large proportions.\n",
      "It's time to stop living like a dead man.\n",
      "Don't strain at gnats and swallow camels. There are worse problems than that around here.\n",
      "Scientists are far away from understanding the human brain.\n",
      "Johnny was very fond of the ground Dallas walked on.\n",
      "Whenever I watch the movie, that scene strikes me.\n",
      "Set a beggar on horseback, and he will ride far.\n",
      "Grandpa is older than dirt.\n",
      "The air I breathe in a room empty of you is unhealthy.\n",
      "If I tried to carry all that cargo in my head it would make me quite tired.\n",
      "When spectre-like, I enter alone upon the stubble field.\n",
      "My sisters mean more than air to me.\n",
      "We're going to turn this sow's ear into something more valuable.\n",
      "Technology annihilates humanity.\n",
      "Saying the entire campaign is ill-informed because you disagree with one point is throwing out the baby with the bathwater.\n",
      "The style is the man.\n",
      "As the exam date approaches, she becomes a sort of hermit, spending all her time in her room.\n",
      "Daisy Buchanan is Gatsby's target that he fails to possess.\n",
      "These are the proofs of the invincible smartness of the human race.\n",
      "Don't touch a woman, not even with a flower.\n",
      "You're very sweet.\n",
      "The town I grew up in is so isolated that rock, paper, scissors is considered a high tech game.\n",
      "He is so vicious that there should be a circle in Dante's Inferno specifically for him.\n",
      "You have ravished me away by a power I find difficult to resist.\n",
      "Admit you're a Judas.\n",
      "The act of love strongly resembles severe pain.\n",
      "The pictures prove that the poor country has turned into hell.\n",
      "At that point, the presidency was fatally wounded.\n",
      "I'm quite imperturbable, it's very tough to rock me.\n",
      "Johnny was scared of his own shadow.\n",
      "The eye of a master does more work than both his hands.\n",
      "Supernatural courage is needed when bringing a message to a hostile audience.\n",
      "Too much work makes me feel demolished.\n",
      "Sometimes, ignorance is bliss.\n",
      "He looked at the glass, and lowered his lips to that oasis of moisture.\n",
      "It'll just - bam! - hit me hard.\n",
      "If I tried to carry all that cargo in my head it would make me stoop-shouldered.\n",
      "I do not work without coffee: it is my sustenance.\n",
      "When you open this map, you own the city.\n",
      "Given its advanced technologies, this is more of a spacecraft than a regular car.\n",
      "It is idle to swallow big problems and choke on small ones.\n"
     ]
    }
   ],
   "source": [
    "for i in S1:\n",
    "    print(DS[i])"
   ]
  },
  {
   "cell_type": "markdown",
   "id": "5eb9ff14-1af9-4e1b-847d-b3839c1c1465",
   "metadata": {
    "jp-MarkdownHeadingCollapsed": true
   },
   "source": [
    "### $S_2$ (Equation 6)"
   ]
  },
  {
   "cell_type": "code",
   "execution_count": 44,
   "id": "b844b33b-b48e-4ec0-ba59-dfdedb22dbc2",
   "metadata": {},
   "outputs": [
    {
     "name": "stdout",
     "output_type": "stream",
     "text": [
      "Marta is pathologically unpunctual to her appointments.\n",
      "The Eagle soars in the summit of the azure.\n",
      "I lost my sense of humor a long time ago.\n",
      "I enjoy my green tea fix each morning!\n",
      "I was deeply sorry.\n",
      "Those criminals thrive on acts of violence.\n",
      "She met my dad and then got whizzed off to so many different countries.\n",
      "The argument with my bestfriend turned into a fight.\n",
      "You unreasonable, pompous, blustering, old windbag!\n",
      "rope - oppurtunity\n",
      "The eye of a master is expert.\n",
      "I can't let go now, I'm deeply engrossed in this.\n",
      "Nate discovered the reason why she's still single, despite a legion of suitors.\n",
      "I depend on my green tea fix each morning!\n",
      "My hair is poker-straight.\n",
      "Kilometric line at the cashier.\n",
      "The secretary was pounding the keyboard trying to finish the report.\n",
      "Well, dear, her hostess would reply with a frigid smile.\n",
      "I can't stand being away from you.\n",
      "Haven't seen you in ages.\n",
      "Daisy was hard to get.\n",
      "You stepped on a land mine, boy.\n",
      "In my family every birthday is a national holiday.\n",
      "The best education systems don't necessarily dole out piles of homework to students.\n"
     ]
    }
   ],
   "source": [
    "for i in S2:\n",
    "    print(DS[i])"
   ]
  },
  {
   "cell_type": "markdown",
   "id": "aa4548a2-3099-41b0-8e2a-60e937e146ff",
   "metadata": {
    "jp-MarkdownHeadingCollapsed": true
   },
   "source": [
    "### $S_3$ (Equation 7)"
   ]
  },
  {
   "cell_type": "code",
   "execution_count": 45,
   "id": "f591d8e9-390e-40eb-bc87-87d5a660ba06",
   "metadata": {},
   "outputs": [
    {
     "name": "stdout",
     "output_type": "stream",
     "text": [
      "You hear that noise? It's ear-piercing.\n",
      "And soon I'll be famous beyond belief.\n",
      "The cream you bought will last for centuries.\n",
      "Look how grown up!Only yesterday you were on your tricycle.\n",
      "I swear he'd not take a whiff of it!\n",
      "Being in debt makes me uncomfortable.\n",
      "Taking my eyes off her is absurd.\n",
      "Your judgement at this point is worthless.\n",
      "Making drastic choice is necessary for an adventurous life.\n",
      "No other friendship could be so strong.\n",
      "We must obey my mother's whims! We respect her power!\n",
      "You unreasonable, pompous, blustering, old bigmouth!\n",
      "I have a horrible face today.\n",
      "The sight of them kissing is so gross that it makes me want to puke.\n",
      "Your speech evokes many sympathies.\n",
      "It was unpleasant seeing her in those cheap shapeless clothes.\n",
      "I wouldn't miss the party for anything in the world.\n",
      "I broke my ribs laughing.\n",
      "Ours is the world's favourite airline.\n",
      "There's dust everywhere.\n",
      "He put loads and loads of cream on his cake.\n",
      "Looking for a featherweight tripod.\n",
      "I would eat pizza at every moment.\n",
      "There are ketchup die hard fans out there.\n",
      "He has a whole room filled with cash.\n",
      "A day was really exhausting.\n",
      "His version of the facts is infinitely more convincing.\n",
      "The waiting has been endless.\n",
      "I'd rather French kiss a rattlesnake than miss a gym period.\n",
      "She's bothered by dust, so she's unceasingly cleaning the house.\n",
      "I wear my favourite t-shirt day in day out.\n",
      "The meal I prepared contains a million calories!\n",
      "I'm begging! Give me the last piece of the cake.\n",
      "I'm scared the spider will anaesthetize my legs and start chomping them.\n",
      "Christmas will take a long time to come.\n",
      "My tongue is really rough.\n",
      "You know, the world could end before I'd let something happen to you.\n",
      "It's a difficult time.\n",
      "This spray has the odour of freshness of the ocean breeze.\n",
      "I lost my sense of humor in the before Christ to be precise.\n",
      "I swear he'd rather die of starvation than even take a whiff of it!\n",
      "Christmas will never come.\n",
      "I've seen this movie at least eighty thousand times.\n",
      "I want to leave badly.\n",
      "She's drinking heavily.\n",
      "Travel increases your knowledge.\n",
      "Look how grown up! It wasn't that long ago that you were on your tricycle.\n",
      "I'll persevere till the stars drop from the sky.\n",
      "They sell books by every author who has ever set pen to paper.\n",
      "We've been here countless times.\n",
      "I worked hard to get you through college.\n",
      "My stomach almost bust.\n",
      "I am trying to solve a million issues these days.\n",
      "Why do we have four thousand forks and no spoons?\n",
      "Even a baby could pass that test!\n",
      "My best friend is so forgetful, I sometimes have to remind her what her name is.\n",
      "I've been enjoying this tea for all my life.\n",
      "His teeth would uncover, and shine very bright.\n",
      "And with all this romantic atmosphere something could go wrong.\n",
      "The mall is large enough to have its own zip code.\n",
      "The global crisis has seen prices rise over the past week.\n",
      "I mean, you have the kind of talent that I would chop off my head to have.\n",
      "They were laughing hard.\n",
      "The water in the sea is almost boiling.\n",
      "The noise was so great, that it was heard in both the countries.\n",
      "There are no words to describe my admiration.\n",
      "This is how to be irresistible to women.\n",
      "You will give a good first impression without a doubt.\n",
      "They were gone in no time.\n",
      "They cooked a turkey the size of a cow.\n",
      "I could smell his horrible breath.\n",
      "It is a truth universally acknowledged that a single man in possession of a fortune must be in want of a wife.\n",
      "My stomach is very bloated.\n",
      "Move, there's no time.\n",
      "I went into the shop and we cleared the shelves out.\n",
      "My bank account is almost empty.\n",
      "He thinks that the affectual bonds prevalent in the older world has been lessened by modernity.\n",
      "Their latest album quickly moved up the charts.\n",
      "My job is so boring, I want to die.\n",
      "Once I would open a bag I could not stop eating.\n",
      "This meal is decadent!\n",
      "Masses of garbage reached so high that it lifted the roof.\n",
      "My aunt is so fat that when she walks by the TV, I miss three shows.\n",
      "Being out of fashion is very bad.\n",
      "You've made me the happiest man alive, Rita.\n",
      "It's so dark, a bat couldn't see in this room.\n",
      "He hiccuped endlessly.\n",
      "I am so tired I could sleep for a year.\n",
      "Idleness causes bad behavior.\n"
     ]
    }
   ],
   "source": [
    "for i in S3:\n",
    "    print(DS[i])"
   ]
  },
  {
   "cell_type": "markdown",
   "id": "178027c4-43e4-4af7-a2a5-29066ffaab22",
   "metadata": {},
   "source": [
    "### $S_4$ (Equation 8)"
   ]
  },
  {
   "cell_type": "code",
   "execution_count": 46,
   "id": "72a9c700-436e-4c34-9721-89d22fa20bd0",
   "metadata": {},
   "outputs": [
    {
     "name": "stdout",
     "output_type": "stream",
     "text": [
      "Her anger radiated like a nuclear explosion.\n",
      "The minister told the guests that the couple's friendship was sweeter than honey.\n",
      "She has so many watches, she'd need eight arms to wear them all.\n",
      "No one knows her. She's mysterious as the dark side of the moon.\n",
      "This year the new fashion trends spread like wildfire.\n",
      "You are slower than a snail.\n",
      "My admiration for him is deep as the ocean.\n",
      "I'm scared the spider will anaesthetize my legs and start biting them.\n",
      "It'll just - bam! - hit me like lightning.\n",
      "If this character was a real person, I'd break every bone in his body.\n",
      "Granma was a harsh school girl who made kids behave. She was a real strict person.\n",
      "His teeth would uncover, and shine savage like the furnaces.\n",
      "That chocolate melts in your mouth like a single snowflake in the palm of your hand.\n",
      "People say Massimo has phenomenal cooking powers.\n",
      "Let me see a vast amount of knowledge.\n",
      "It turns out Crumpet Manor had left Lily into an intense state of relaxation.\n",
      "I don't think a herd of elephants would be as noisy as this class is today!\n",
      "We were getting trapped with no way out.\n",
      "Reading dog food labels is often like reading hieroglyphics.\n",
      "Another idea gone wasted.\n",
      "New hair will feel like a fresh start.\n",
      "When the last light set, it was like the whole world stopped.\n",
      "The bad sides are so overpowering that she finds it difficult to concentrate on anything else.\n",
      "With each of her screams, the world felt very sorrowful.\n",
      "Her eyes were gray and sharp like the points of two picks.\n",
      "My aim is as certain as the rising sun.\n",
      "You can see what she's thinking, like she's almost transparent.\n",
      "One picture is sufficient to convey so much!\n",
      "He's light like a feather.\n",
      "Our fight has been going on for a long time.\n",
      "That girl's eyes are bright.\n",
      "Man, your compassion is huge.\n",
      "She's drinking like tomorrow doesn't exist.\n",
      "Precious, self-contained, and solitary as an oyster.\n",
      "Life goes in a little bit of time.\n",
      "My dog can run faster than a thunderbolt.\n",
      "We were getting to be like two goldfish in a bowl with no way out.\n",
      "The bad sides are so overpowering that she can't see anything else.\n",
      "Her boyfriend would obey her commands like a tame pet.\n",
      "Trust him, he's more faithful than the rising sun.\n",
      "And he was rich - yes, richer than a king.\n",
      "My paperworks piled up high.\n",
      "Her skin was whiter than snow.\n",
      "She's like vomiting all her feelings out with hate.\n",
      "He appeared like a descended god.\n",
      "She will have no shortage of boyfriends.\n",
      "Fools rush in where experienced people would not.\n",
      "This kind of anger rages like a sea in a storm.\n",
      "Be silent as a ninja.\n",
      "So much snow that it's like walking on a soft ground.\n",
      "I'd rather pay dearly than miss a gym period.\n",
      "Changing your favorite team is like breaking a blood oath.\n",
      "He's as mad as a hippo with a hernia.\n",
      "Even thinking back, it feels like living a wonderful situation.\n",
      "Its golden roofs are brighter than the sun itself.\n",
      "But you are mute, quiet.\n",
      "They go about together like Siamese twins.\n",
      "So much snow that it's like walking in the firmament.\n",
      "Your beard is so hairy, you look like Chewbacca.\n",
      "His hand is as cold as an ice box.\n",
      "His feet are colder than the arctic.\n",
      "We used to be as little independent as a flock of sheep.\n",
      "My granpa snores louder than a faulty engine.\n",
      "I do not live well without you.\n",
      "There lived a man as big as a barge.\n",
      "But you are mute, mute as a fish.\n",
      "Sometimes asking feels like firewalking.\n",
      "This room is a mess. It looks like it was hit by a tornado!\n",
      "This discovery is like a tender newborn to young scientists.\n",
      "Even thinking back, it feels like living a fairy tail.\n",
      "Your interpretation goes too far, it lacks of unity.\n",
      "He is so majestic.\n",
      "My dog is so ugly, we had to pay the fleas to live on him.\n",
      "Changing your favorite team is like breaking a promise.\n",
      "The flap of skin opened like a cupboard door.\n",
      "He has as many debts as a dog has fleas.\n",
      "Life is rushing by like a river in flood.\n",
      "Being led around aimlessly felt like being a zombie.\n"
     ]
    }
   ],
   "source": [
    "for i in S4:\n",
    "    print(DS[i])"
   ]
  }
 ],
 "metadata": {
  "kernelspec": {
   "display_name": "Python 3 (ipykernel)",
   "language": "python",
   "name": "python3"
  },
  "language_info": {
   "codemirror_mode": {
    "name": "ipython",
    "version": 3
   },
   "file_extension": ".py",
   "mimetype": "text/x-python",
   "name": "python",
   "nbconvert_exporter": "python",
   "pygments_lexer": "ipython3",
   "version": "3.12.1"
  }
 },
 "nbformat": 4,
 "nbformat_minor": 5
}
